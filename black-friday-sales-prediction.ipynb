{
 "cells": [
  {
   "cell_type": "code",
   "execution_count": 1,
   "id": "ebdffa73",
   "metadata": {
    "_cell_guid": "b1076dfc-b9ad-4769-8c92-a6c4dae69d19",
    "_uuid": "8f2839f25d086af736a60e9eeb907d3b93b6e0e5",
    "execution": {
     "iopub.execute_input": "2022-02-18T20:00:23.268847Z",
     "iopub.status.busy": "2022-02-18T20:00:23.261070Z",
     "iopub.status.idle": "2022-02-18T20:00:23.281686Z",
     "shell.execute_reply": "2022-02-18T20:00:23.282178Z",
     "shell.execute_reply.started": "2022-02-18T18:06:24.916394Z"
    },
    "papermill": {
     "duration": 0.090557,
     "end_time": "2022-02-18T20:00:23.282525",
     "exception": false,
     "start_time": "2022-02-18T20:00:23.191968",
     "status": "completed"
    },
    "tags": []
   },
   "outputs": [],
   "source": [
    "## dataset link: https://www.kaggle.com/sdolezel/black-friday?select=train.csv"
   ]
  },
  {
   "cell_type": "markdown",
   "id": "272591b4",
   "metadata": {
    "papermill": {
     "duration": 0.062883,
     "end_time": "2022-02-18T20:00:23.411718",
     "exception": false,
     "start_time": "2022-02-18T20:00:23.348835",
     "status": "completed"
    },
    "tags": []
   },
   "source": [
    "# 1. importing Library\n"
   ]
  },
  {
   "cell_type": "code",
   "execution_count": 2,
   "id": "4a5fcb70",
   "metadata": {
    "execution": {
     "iopub.execute_input": "2022-02-18T20:00:23.544900Z",
     "iopub.status.busy": "2022-02-18T20:00:23.544137Z",
     "iopub.status.idle": "2022-02-18T20:00:26.166531Z",
     "shell.execute_reply": "2022-02-18T20:00:26.165760Z",
     "shell.execute_reply.started": "2022-02-18T18:10:31.902645Z"
    },
    "papermill": {
     "duration": 2.692715,
     "end_time": "2022-02-18T20:00:26.166709",
     "exception": false,
     "start_time": "2022-02-18T20:00:23.473994",
     "status": "completed"
    },
    "tags": []
   },
   "outputs": [],
   "source": [
    "# manipulation data\n",
    "import pandas as pd\n",
    "import numpy as np\n",
    "\n",
    "#visualiation data\n",
    "import matplotlib.pyplot as plt\n",
    "import seaborn as sns \n",
    "import matplotlib\n",
    "import plotly.graph_objects as go\n",
    "import plotly.express as px\n",
    "from plotly.subplots import make_subplots\n",
    "from plotly.offline import init_notebook_mode, iplot\n",
    "\n",
    "#default theme\n",
    "plt.style.use('ggplot')\n",
    "sns.set(context='notebook', style='darkgrid', palette='colorblind', font='sans-serif', font_scale=1, rc=None)\n",
    "matplotlib.rcParams['figure.figsize'] =[8,8]\n",
    "matplotlib.rcParams.update({'font.size': 15})\n",
    "matplotlib.rcParams['font.family'] = 'sans-serif'"
   ]
  },
  {
   "cell_type": "markdown",
   "id": "1126c002",
   "metadata": {
    "papermill": {
     "duration": 0.062417,
     "end_time": "2022-02-18T20:00:26.293841",
     "exception": false,
     "start_time": "2022-02-18T20:00:26.231424",
     "status": "completed"
    },
    "tags": []
   },
   "source": [
    "# 2. Data Analysis"
   ]
  },
  {
   "cell_type": "code",
   "execution_count": 3,
   "id": "fcc38d47",
   "metadata": {
    "execution": {
     "iopub.execute_input": "2022-02-18T20:00:26.425280Z",
     "iopub.status.busy": "2022-02-18T20:00:26.424513Z",
     "iopub.status.idle": "2022-02-18T20:00:27.797656Z",
     "shell.execute_reply": "2022-02-18T20:00:27.798191Z",
     "shell.execute_reply.started": "2022-02-18T18:13:51.743421Z"
    },
    "papermill": {
     "duration": 1.442014,
     "end_time": "2022-02-18T20:00:27.798408",
     "exception": false,
     "start_time": "2022-02-18T20:00:26.356394",
     "status": "completed"
    },
    "tags": []
   },
   "outputs": [
    {
     "data": {
      "text/html": [
       "<div>\n",
       "<style scoped>\n",
       "    .dataframe tbody tr th:only-of-type {\n",
       "        vertical-align: middle;\n",
       "    }\n",
       "\n",
       "    .dataframe tbody tr th {\n",
       "        vertical-align: top;\n",
       "    }\n",
       "\n",
       "    .dataframe thead th {\n",
       "        text-align: right;\n",
       "    }\n",
       "</style>\n",
       "<table border=\"1\" class=\"dataframe\">\n",
       "  <thead>\n",
       "    <tr style=\"text-align: right;\">\n",
       "      <th></th>\n",
       "      <th>User_ID</th>\n",
       "      <th>Product_ID</th>\n",
       "      <th>Gender</th>\n",
       "      <th>Age</th>\n",
       "      <th>Occupation</th>\n",
       "      <th>City_Category</th>\n",
       "      <th>Stay_In_Current_City_Years</th>\n",
       "      <th>Marital_Status</th>\n",
       "      <th>Product_Category_1</th>\n",
       "      <th>Product_Category_2</th>\n",
       "      <th>Product_Category_3</th>\n",
       "      <th>Purchase</th>\n",
       "    </tr>\n",
       "  </thead>\n",
       "  <tbody>\n",
       "    <tr>\n",
       "      <th>0</th>\n",
       "      <td>1000001</td>\n",
       "      <td>P00069042</td>\n",
       "      <td>F</td>\n",
       "      <td>0-17</td>\n",
       "      <td>10</td>\n",
       "      <td>A</td>\n",
       "      <td>2</td>\n",
       "      <td>0</td>\n",
       "      <td>3</td>\n",
       "      <td>NaN</td>\n",
       "      <td>NaN</td>\n",
       "      <td>8370</td>\n",
       "    </tr>\n",
       "    <tr>\n",
       "      <th>1</th>\n",
       "      <td>1000001</td>\n",
       "      <td>P00248942</td>\n",
       "      <td>F</td>\n",
       "      <td>0-17</td>\n",
       "      <td>10</td>\n",
       "      <td>A</td>\n",
       "      <td>2</td>\n",
       "      <td>0</td>\n",
       "      <td>1</td>\n",
       "      <td>6.0</td>\n",
       "      <td>14.0</td>\n",
       "      <td>15200</td>\n",
       "    </tr>\n",
       "    <tr>\n",
       "      <th>2</th>\n",
       "      <td>1000001</td>\n",
       "      <td>P00087842</td>\n",
       "      <td>F</td>\n",
       "      <td>0-17</td>\n",
       "      <td>10</td>\n",
       "      <td>A</td>\n",
       "      <td>2</td>\n",
       "      <td>0</td>\n",
       "      <td>12</td>\n",
       "      <td>NaN</td>\n",
       "      <td>NaN</td>\n",
       "      <td>1422</td>\n",
       "    </tr>\n",
       "    <tr>\n",
       "      <th>3</th>\n",
       "      <td>1000001</td>\n",
       "      <td>P00085442</td>\n",
       "      <td>F</td>\n",
       "      <td>0-17</td>\n",
       "      <td>10</td>\n",
       "      <td>A</td>\n",
       "      <td>2</td>\n",
       "      <td>0</td>\n",
       "      <td>12</td>\n",
       "      <td>14.0</td>\n",
       "      <td>NaN</td>\n",
       "      <td>1057</td>\n",
       "    </tr>\n",
       "    <tr>\n",
       "      <th>4</th>\n",
       "      <td>1000002</td>\n",
       "      <td>P00285442</td>\n",
       "      <td>M</td>\n",
       "      <td>55+</td>\n",
       "      <td>16</td>\n",
       "      <td>C</td>\n",
       "      <td>4+</td>\n",
       "      <td>0</td>\n",
       "      <td>8</td>\n",
       "      <td>NaN</td>\n",
       "      <td>NaN</td>\n",
       "      <td>7969</td>\n",
       "    </tr>\n",
       "  </tbody>\n",
       "</table>\n",
       "</div>"
      ],
      "text/plain": [
       "   User_ID Product_ID Gender   Age  Occupation City_Category  \\\n",
       "0  1000001  P00069042      F  0-17          10             A   \n",
       "1  1000001  P00248942      F  0-17          10             A   \n",
       "2  1000001  P00087842      F  0-17          10             A   \n",
       "3  1000001  P00085442      F  0-17          10             A   \n",
       "4  1000002  P00285442      M   55+          16             C   \n",
       "\n",
       "  Stay_In_Current_City_Years  Marital_Status  Product_Category_1  \\\n",
       "0                          2               0                   3   \n",
       "1                          2               0                   1   \n",
       "2                          2               0                  12   \n",
       "3                          2               0                  12   \n",
       "4                         4+               0                   8   \n",
       "\n",
       "   Product_Category_2  Product_Category_3  Purchase  \n",
       "0                 NaN                 NaN      8370  \n",
       "1                 6.0                14.0     15200  \n",
       "2                 NaN                 NaN      1422  \n",
       "3                14.0                 NaN      1057  \n",
       "4                 NaN                 NaN      7969  "
      ]
     },
     "execution_count": 3,
     "metadata": {},
     "output_type": "execute_result"
    }
   ],
   "source": [
    "train = pd.read_csv('train.csv')\n",
    "test = pd.read_csv('test.csv')\n",
    "train.head(5)"
   ]
  },
  {
   "cell_type": "code",
   "execution_count": 4,
   "id": "e0c7cb95",
   "metadata": {
    "execution": {
     "iopub.execute_input": "2022-02-18T20:00:27.933459Z",
     "iopub.status.busy": "2022-02-18T20:00:27.932557Z",
     "iopub.status.idle": "2022-02-18T20:00:27.936836Z",
     "shell.execute_reply": "2022-02-18T20:00:27.936164Z",
     "shell.execute_reply.started": "2022-02-18T18:31:35.171056Z"
    },
    "papermill": {
     "duration": 0.074559,
     "end_time": "2022-02-18T20:00:27.936981",
     "exception": false,
     "start_time": "2022-02-18T20:00:27.862422",
     "status": "completed"
    },
    "tags": []
   },
   "outputs": [
    {
     "data": {
      "text/plain": [
       "(550068, 12)"
      ]
     },
     "execution_count": 4,
     "metadata": {},
     "output_type": "execute_result"
    }
   ],
   "source": [
    "train.shape"
   ]
  },
  {
   "cell_type": "markdown",
   "id": "51be53fa",
   "metadata": {
    "papermill": {
     "duration": 0.065302,
     "end_time": "2022-02-18T20:00:28.067648",
     "exception": false,
     "start_time": "2022-02-18T20:00:28.002346",
     "status": "completed"
    },
    "tags": []
   },
   "source": [
    "like we c her we had\n",
    "\n",
    "* 550068 rows\n",
    "* 12 coluns"
   ]
  },
  {
   "cell_type": "code",
   "execution_count": 5,
   "id": "8bcdc270",
   "metadata": {
    "execution": {
     "iopub.execute_input": "2022-02-18T20:00:28.202470Z",
     "iopub.status.busy": "2022-02-18T20:00:28.201726Z",
     "iopub.status.idle": "2022-02-18T20:00:28.518621Z",
     "shell.execute_reply": "2022-02-18T20:00:28.517761Z",
     "shell.execute_reply.started": "2022-02-18T18:35:45.965001Z"
    },
    "papermill": {
     "duration": 0.387352,
     "end_time": "2022-02-18T20:00:28.518811",
     "exception": false,
     "start_time": "2022-02-18T20:00:28.131459",
     "status": "completed"
    },
    "tags": []
   },
   "outputs": [
    {
     "name": "stdout",
     "output_type": "stream",
     "text": [
      "<class 'pandas.core.frame.DataFrame'>\n",
      "RangeIndex: 550068 entries, 0 to 550067\n",
      "Data columns (total 12 columns):\n",
      " #   Column                      Non-Null Count   Dtype  \n",
      "---  ------                      --------------   -----  \n",
      " 0   User_ID                     550068 non-null  int64  \n",
      " 1   Product_ID                  550068 non-null  object \n",
      " 2   Gender                      550068 non-null  object \n",
      " 3   Age                         550068 non-null  object \n",
      " 4   Occupation                  550068 non-null  int64  \n",
      " 5   City_Category               550068 non-null  object \n",
      " 6   Stay_In_Current_City_Years  550068 non-null  object \n",
      " 7   Marital_Status              550068 non-null  int64  \n",
      " 8   Product_Category_1          550068 non-null  int64  \n",
      " 9   Product_Category_2          376430 non-null  float64\n",
      " 10  Product_Category_3          166821 non-null  float64\n",
      " 11  Purchase                    550068 non-null  int64  \n",
      "dtypes: float64(2), int64(5), object(5)\n",
      "memory usage: 50.4+ MB\n"
     ]
    }
   ],
   "source": [
    "train.info()"
   ]
  },
  {
   "cell_type": "code",
   "execution_count": 6,
   "id": "c69e40ec",
   "metadata": {
    "execution": {
     "iopub.execute_input": "2022-02-18T20:00:28.658986Z",
     "iopub.status.busy": "2022-02-18T20:00:28.658029Z",
     "iopub.status.idle": "2022-02-18T20:00:28.661258Z",
     "shell.execute_reply": "2022-02-18T20:00:28.661769Z",
     "shell.execute_reply.started": "2022-02-18T18:37:57.117053Z"
    },
    "papermill": {
     "duration": 0.076368,
     "end_time": "2022-02-18T20:00:28.661968",
     "exception": false,
     "start_time": "2022-02-18T20:00:28.585600",
     "status": "completed"
    },
    "tags": []
   },
   "outputs": [
    {
     "data": {
      "text/plain": [
       "int64      5\n",
       "object     5\n",
       "float64    2\n",
       "dtype: int64"
      ]
     },
     "execution_count": 6,
     "metadata": {},
     "output_type": "execute_result"
    }
   ],
   "source": [
    "train.dtypes.value_counts()"
   ]
  },
  {
   "cell_type": "code",
   "execution_count": 7,
   "id": "809a5e0e",
   "metadata": {
    "execution": {
     "iopub.execute_input": "2022-02-18T20:00:28.804902Z",
     "iopub.status.busy": "2022-02-18T20:00:28.798222Z",
     "iopub.status.idle": "2022-02-18T20:00:29.024704Z",
     "shell.execute_reply": "2022-02-18T20:00:29.025611Z",
     "shell.execute_reply.started": "2022-02-18T18:41:33.294566Z"
    },
    "papermill": {
     "duration": 0.29855,
     "end_time": "2022-02-18T20:00:29.025933",
     "exception": false,
     "start_time": "2022-02-18T20:00:28.727383",
     "status": "completed"
    },
    "tags": []
   },
   "outputs": [
    {
     "data": {
      "image/png": "[encoded data removed]",
      "text/plain": [
       "<Figure size 576x576 with 1 Axes>"
      ]
     },
     "metadata": {},
     "output_type": "display_data"
    }
   ],
   "source": [
    "train.dtypes.value_counts().plot.pie(explode = [0.1,0.1,0.1],\n",
    "                                    autopct = '%1.2f%%', shadow = True)\n",
    "plt.title(\"Our Data Type\");"
   ]
  },
  {
   "cell_type": "code",
   "execution_count": 8,
   "id": "43b4b52e",
   "metadata": {
    "execution": {
     "iopub.execute_input": "2022-02-18T20:00:29.174365Z",
     "iopub.status.busy": "2022-02-18T20:00:29.173677Z",
     "iopub.status.idle": "2022-02-18T20:00:29.179405Z",
     "shell.execute_reply": "2022-02-18T20:00:29.179970Z",
     "shell.execute_reply.started": "2022-02-18T18:45:34.079121Z"
    },
    "papermill": {
     "duration": 0.075737,
     "end_time": "2022-02-18T20:00:29.180144",
     "exception": false,
     "start_time": "2022-02-18T20:00:29.104407",
     "status": "completed"
    },
    "tags": []
   },
   "outputs": [],
   "source": [
    "# Show The Numerical Values\n",
    "num_columns = [f for f in train.columns if train.dtypes[f] != 'object']\n"
   ]
  },
  {
   "cell_type": "code",
   "execution_count": 9,
   "id": "9289b788",
   "metadata": {
    "execution": {
     "iopub.execute_input": "2022-02-18T20:00:29.318145Z",
     "iopub.status.busy": "2022-02-18T20:00:29.317438Z",
     "iopub.status.idle": "2022-02-18T20:00:29.320066Z",
     "shell.execute_reply": "2022-02-18T20:00:29.320577Z",
     "shell.execute_reply.started": "2022-02-18T18:45:52.358946Z"
    },
    "papermill": {
     "duration": 0.074784,
     "end_time": "2022-02-18T20:00:29.320742",
     "exception": false,
     "start_time": "2022-02-18T20:00:29.245958",
     "status": "completed"
    },
    "tags": []
   },
   "outputs": [
    {
     "data": {
      "text/plain": [
       "['User_ID',\n",
       " 'Occupation',\n",
       " 'Marital_Status',\n",
       " 'Product_Category_1',\n",
       " 'Product_Category_2',\n",
       " 'Product_Category_3',\n",
       " 'Purchase']"
      ]
     },
     "execution_count": 9,
     "metadata": {},
     "output_type": "execute_result"
    }
   ],
   "source": [
    "num_columns"
   ]
  },
  {
   "cell_type": "code",
   "execution_count": 10,
   "id": "522fec78",
   "metadata": {
    "execution": {
     "iopub.execute_input": "2022-02-18T20:00:29.457991Z",
     "iopub.status.busy": "2022-02-18T20:00:29.457303Z",
     "iopub.status.idle": "2022-02-18T20:00:29.465481Z",
     "shell.execute_reply": "2022-02-18T20:00:29.464815Z",
     "shell.execute_reply.started": "2022-02-18T18:47:29.422056Z"
    },
    "papermill": {
     "duration": 0.077825,
     "end_time": "2022-02-18T20:00:29.465641",
     "exception": false,
     "start_time": "2022-02-18T20:00:29.387816",
     "status": "completed"
    },
    "tags": []
   },
   "outputs": [
    {
     "data": {
      "text/plain": [
       "['Occupation',\n",
       " 'Marital_Status',\n",
       " 'Product_Category_1',\n",
       " 'Product_Category_2',\n",
       " 'Product_Category_3']"
      ]
     },
     "execution_count": 10,
     "metadata": {},
     "output_type": "execute_result"
    }
   ],
   "source": [
    "num_columns.remove('User_ID')\n",
    "num_columns.remove('Purchase')\n",
    "num_columns"
   ]
  },
  {
   "cell_type": "code",
   "execution_count": 11,
   "id": "03d971dc",
   "metadata": {
    "execution": {
     "iopub.execute_input": "2022-02-18T20:00:29.613566Z",
     "iopub.status.busy": "2022-02-18T20:00:29.612789Z",
     "iopub.status.idle": "2022-02-18T20:00:29.616990Z",
     "shell.execute_reply": "2022-02-18T20:00:29.616207Z",
     "shell.execute_reply.started": "2022-02-18T18:48:48.907056Z"
    },
    "papermill": {
     "duration": 0.082127,
     "end_time": "2022-02-18T20:00:29.617178",
     "exception": false,
     "start_time": "2022-02-18T20:00:29.535051",
     "status": "completed"
    },
    "tags": []
   },
   "outputs": [
    {
     "data": {
      "text/plain": [
       "['Product_ID', 'Gender', 'Age', 'City_Category', 'Stay_In_Current_City_Years']"
      ]
     },
     "execution_count": 11,
     "metadata": {},
     "output_type": "execute_result"
    }
   ],
   "source": [
    "# Show The Categorical values\n",
    "cat_columns  = [f for f in train.columns if train.dtypes[f] == 'object']\n",
    "cat_columns"
   ]
  },
  {
   "cell_type": "code",
   "execution_count": 12,
   "id": "14eb6f8d",
   "metadata": {
    "execution": {
     "iopub.execute_input": "2022-02-18T20:00:29.762441Z",
     "iopub.status.busy": "2022-02-18T20:00:29.761187Z",
     "iopub.status.idle": "2022-02-18T20:00:30.696522Z",
     "shell.execute_reply": "2022-02-18T20:00:30.697015Z",
     "shell.execute_reply.started": "2022-02-18T18:50:36.638329Z"
    },
    "papermill": {
     "duration": 1.010164,
     "end_time": "2022-02-18T20:00:30.697240",
     "exception": false,
     "start_time": "2022-02-18T20:00:29.687076",
     "status": "completed"
    },
    "tags": []
   },
   "outputs": [
    {
     "data": {
      "text/html": [
       "<div>\n",
       "<style scoped>\n",
       "    .dataframe tbody tr th:only-of-type {\n",
       "        vertical-align: middle;\n",
       "    }\n",
       "\n",
       "    .dataframe tbody tr th {\n",
       "        vertical-align: top;\n",
       "    }\n",
       "\n",
       "    .dataframe thead th {\n",
       "        text-align: right;\n",
       "    }\n",
       "</style>\n",
       "<table border=\"1\" class=\"dataframe\">\n",
       "  <thead>\n",
       "    <tr style=\"text-align: right;\">\n",
       "      <th></th>\n",
       "      <th>User_ID</th>\n",
       "      <th>Product_ID</th>\n",
       "      <th>Gender</th>\n",
       "      <th>Age</th>\n",
       "      <th>Occupation</th>\n",
       "      <th>City_Category</th>\n",
       "      <th>Stay_In_Current_City_Years</th>\n",
       "      <th>Marital_Status</th>\n",
       "      <th>Product_Category_1</th>\n",
       "      <th>Product_Category_2</th>\n",
       "      <th>Product_Category_3</th>\n",
       "      <th>Purchase</th>\n",
       "    </tr>\n",
       "  </thead>\n",
       "  <tbody>\n",
       "    <tr>\n",
       "      <th>count</th>\n",
       "      <td>5.500680e+05</td>\n",
       "      <td>550068</td>\n",
       "      <td>550068</td>\n",
       "      <td>550068</td>\n",
       "      <td>550068.000000</td>\n",
       "      <td>550068</td>\n",
       "      <td>550068</td>\n",
       "      <td>550068.000000</td>\n",
       "      <td>550068.000000</td>\n",
       "      <td>376430.000000</td>\n",
       "      <td>166821.000000</td>\n",
       "      <td>550068.000000</td>\n",
       "    </tr>\n",
       "    <tr>\n",
       "      <th>unique</th>\n",
       "      <td>NaN</td>\n",
       "      <td>3631</td>\n",
       "      <td>2</td>\n",
       "      <td>7</td>\n",
       "      <td>NaN</td>\n",
       "      <td>3</td>\n",
       "      <td>5</td>\n",
       "      <td>NaN</td>\n",
       "      <td>NaN</td>\n",
       "      <td>NaN</td>\n",
       "      <td>NaN</td>\n",
       "      <td>NaN</td>\n",
       "    </tr>\n",
       "    <tr>\n",
       "      <th>top</th>\n",
       "      <td>NaN</td>\n",
       "      <td>P00265242</td>\n",
       "      <td>M</td>\n",
       "      <td>26-35</td>\n",
       "      <td>NaN</td>\n",
       "      <td>B</td>\n",
       "      <td>1</td>\n",
       "      <td>NaN</td>\n",
       "      <td>NaN</td>\n",
       "      <td>NaN</td>\n",
       "      <td>NaN</td>\n",
       "      <td>NaN</td>\n",
       "    </tr>\n",
       "    <tr>\n",
       "      <th>freq</th>\n",
       "      <td>NaN</td>\n",
       "      <td>1880</td>\n",
       "      <td>414259</td>\n",
       "      <td>219587</td>\n",
       "      <td>NaN</td>\n",
       "      <td>231173</td>\n",
       "      <td>193821</td>\n",
       "      <td>NaN</td>\n",
       "      <td>NaN</td>\n",
       "      <td>NaN</td>\n",
       "      <td>NaN</td>\n",
       "      <td>NaN</td>\n",
       "    </tr>\n",
       "    <tr>\n",
       "      <th>mean</th>\n",
       "      <td>1.003029e+06</td>\n",
       "      <td>NaN</td>\n",
       "      <td>NaN</td>\n",
       "      <td>NaN</td>\n",
       "      <td>8.076707</td>\n",
       "      <td>NaN</td>\n",
       "      <td>NaN</td>\n",
       "      <td>0.409653</td>\n",
       "      <td>5.404270</td>\n",
       "      <td>9.842329</td>\n",
       "      <td>12.668243</td>\n",
       "      <td>9263.968713</td>\n",
       "    </tr>\n",
       "    <tr>\n",
       "      <th>std</th>\n",
       "      <td>1.727592e+03</td>\n",
       "      <td>NaN</td>\n",
       "      <td>NaN</td>\n",
       "      <td>NaN</td>\n",
       "      <td>6.522660</td>\n",
       "      <td>NaN</td>\n",
       "      <td>NaN</td>\n",
       "      <td>0.491770</td>\n",
       "      <td>3.936211</td>\n",
       "      <td>5.086590</td>\n",
       "      <td>4.125338</td>\n",
       "      <td>5023.065394</td>\n",
       "    </tr>\n",
       "    <tr>\n",
       "      <th>min</th>\n",
       "      <td>1.000001e+06</td>\n",
       "      <td>NaN</td>\n",
       "      <td>NaN</td>\n",
       "      <td>NaN</td>\n",
       "      <td>0.000000</td>\n",
       "      <td>NaN</td>\n",
       "      <td>NaN</td>\n",
       "      <td>0.000000</td>\n",
       "      <td>1.000000</td>\n",
       "      <td>2.000000</td>\n",
       "      <td>3.000000</td>\n",
       "      <td>12.000000</td>\n",
       "    </tr>\n",
       "    <tr>\n",
       "      <th>25%</th>\n",
       "      <td>1.001516e+06</td>\n",
       "      <td>NaN</td>\n",
       "      <td>NaN</td>\n",
       "      <td>NaN</td>\n",
       "      <td>2.000000</td>\n",
       "      <td>NaN</td>\n",
       "      <td>NaN</td>\n",
       "      <td>0.000000</td>\n",
       "      <td>1.000000</td>\n",
       "      <td>5.000000</td>\n",
       "      <td>9.000000</td>\n",
       "      <td>5823.000000</td>\n",
       "    </tr>\n",
       "    <tr>\n",
       "      <th>50%</th>\n",
       "      <td>1.003077e+06</td>\n",
       "      <td>NaN</td>\n",
       "      <td>NaN</td>\n",
       "      <td>NaN</td>\n",
       "      <td>7.000000</td>\n",
       "      <td>NaN</td>\n",
       "      <td>NaN</td>\n",
       "      <td>0.000000</td>\n",
       "      <td>5.000000</td>\n",
       "      <td>9.000000</td>\n",
       "      <td>14.000000</td>\n",
       "      <td>8047.000000</td>\n",
       "    </tr>\n",
       "    <tr>\n",
       "      <th>75%</th>\n",
       "      <td>1.004478e+06</td>\n",
       "      <td>NaN</td>\n",
       "      <td>NaN</td>\n",
       "      <td>NaN</td>\n",
       "      <td>14.000000</td>\n",
       "      <td>NaN</td>\n",
       "      <td>NaN</td>\n",
       "      <td>1.000000</td>\n",
       "      <td>8.000000</td>\n",
       "      <td>15.000000</td>\n",
       "      <td>16.000000</td>\n",
       "      <td>12054.000000</td>\n",
       "    </tr>\n",
       "    <tr>\n",
       "      <th>max</th>\n",
       "      <td>1.006040e+06</td>\n",
       "      <td>NaN</td>\n",
       "      <td>NaN</td>\n",
       "      <td>NaN</td>\n",
       "      <td>20.000000</td>\n",
       "      <td>NaN</td>\n",
       "      <td>NaN</td>\n",
       "      <td>1.000000</td>\n",
       "      <td>20.000000</td>\n",
       "      <td>18.000000</td>\n",
       "      <td>18.000000</td>\n",
       "      <td>23961.000000</td>\n",
       "    </tr>\n",
       "  </tbody>\n",
       "</table>\n",
       "</div>"
      ],
      "text/plain": [
       "             User_ID Product_ID  Gender     Age     Occupation City_Category  \\\n",
       "count   5.500680e+05     550068  550068  550068  550068.000000        550068   \n",
       "unique           NaN       3631       2       7            NaN             3   \n",
       "top              NaN  P00265242       M   26-35            NaN             B   \n",
       "freq             NaN       1880  414259  219587            NaN        231173   \n",
       "mean    1.003029e+06        NaN     NaN     NaN       8.076707           NaN   \n",
       "std     1.727592e+03        NaN     NaN     NaN       6.522660           NaN   \n",
       "min     1.000001e+06        NaN     NaN     NaN       0.000000           NaN   \n",
       "25%     1.001516e+06        NaN     NaN     NaN       2.000000           NaN   \n",
       "50%     1.003077e+06        NaN     NaN     NaN       7.000000           NaN   \n",
       "75%     1.004478e+06        NaN     NaN     NaN      14.000000           NaN   \n",
       "max     1.006040e+06        NaN     NaN     NaN      20.000000           NaN   \n",
       "\n",
       "       Stay_In_Current_City_Years  Marital_Status  Product_Category_1  \\\n",
       "count                      550068   550068.000000       550068.000000   \n",
       "unique                          5             NaN                 NaN   \n",
       "top                             1             NaN                 NaN   \n",
       "freq                       193821             NaN                 NaN   \n",
       "mean                          NaN        0.409653            5.404270   \n",
       "std                           NaN        0.491770            3.936211   \n",
       "min                           NaN        0.000000            1.000000   \n",
       "25%                           NaN        0.000000            1.000000   \n",
       "50%                           NaN        0.000000            5.000000   \n",
       "75%                           NaN        1.000000            8.000000   \n",
       "max                           NaN        1.000000           20.000000   \n",
       "\n",
       "        Product_Category_2  Product_Category_3       Purchase  \n",
       "count        376430.000000       166821.000000  550068.000000  \n",
       "unique                 NaN                 NaN            NaN  \n",
       "top                    NaN                 NaN            NaN  \n",
       "freq                   NaN                 NaN            NaN  \n",
       "mean              9.842329           12.668243    9263.968713  \n",
       "std               5.086590            4.125338    5023.065394  \n",
       "min               2.000000            3.000000      12.000000  \n",
       "25%               5.000000            9.000000    5823.000000  \n",
       "50%               9.000000           14.000000    8047.000000  \n",
       "75%              15.000000           16.000000   12054.000000  \n",
       "max              18.000000           18.000000   23961.000000  "
      ]
     },
     "execution_count": 12,
     "metadata": {},
     "output_type": "execute_result"
    }
   ],
   "source": [
    "train.describe(include= 'all')"
   ]
  },
  {
   "cell_type": "markdown",
   "id": "97cd419f",
   "metadata": {
    "papermill": {
     "duration": 0.069598,
     "end_time": "2022-02-18T20:00:30.838206",
     "exception": false,
     "start_time": "2022-02-18T20:00:30.768608",
     "status": "completed"
    },
    "tags": []
   },
   "source": [
    "A basic observation is that:\n",
    "\n",
    "* Product P00265242 is the most popular product.\n",
    "* Most of the transactions were made by men.\n",
    "* Age group with most transactions was 26-35.\n",
    "* City Category with most transactions was B\n",
    "\n",
    " but we will cover each of these in more depth later"
   ]
  },
  {
   "cell_type": "code",
   "execution_count": 13,
   "id": "cb3e6e04",
   "metadata": {
    "execution": {
     "iopub.execute_input": "2022-02-18T20:00:30.984781Z",
     "iopub.status.busy": "2022-02-18T20:00:30.984110Z",
     "iopub.status.idle": "2022-02-18T20:00:31.602280Z",
     "shell.execute_reply": "2022-02-18T20:00:31.602894Z",
     "shell.execute_reply.started": "2022-02-18T18:56:39.098465Z"
    },
    "papermill": {
     "duration": 0.691158,
     "end_time": "2022-02-18T20:00:31.603111",
     "exception": false,
     "start_time": "2022-02-18T20:00:30.911953",
     "status": "completed"
    },
    "tags": []
   },
   "outputs": [
    {
     "data": {
      "text/html": [
       "<div>\n",
       "<style scoped>\n",
       "    .dataframe tbody tr th:only-of-type {\n",
       "        vertical-align: middle;\n",
       "    }\n",
       "\n",
       "    .dataframe tbody tr th {\n",
       "        vertical-align: top;\n",
       "    }\n",
       "\n",
       "    .dataframe thead th {\n",
       "        text-align: right;\n",
       "    }\n",
       "</style>\n",
       "<table border=\"1\" class=\"dataframe\">\n",
       "  <thead>\n",
       "    <tr style=\"text-align: right;\">\n",
       "      <th></th>\n",
       "      <th>missing_values</th>\n",
       "      <th>percent_missing</th>\n",
       "    </tr>\n",
       "  </thead>\n",
       "  <tbody>\n",
       "    <tr>\n",
       "      <th>User_ID</th>\n",
       "      <td>0</td>\n",
       "      <td>0.000000</td>\n",
       "    </tr>\n",
       "    <tr>\n",
       "      <th>Product_ID</th>\n",
       "      <td>0</td>\n",
       "      <td>0.000000</td>\n",
       "    </tr>\n",
       "    <tr>\n",
       "      <th>Gender</th>\n",
       "      <td>0</td>\n",
       "      <td>0.000000</td>\n",
       "    </tr>\n",
       "    <tr>\n",
       "      <th>Age</th>\n",
       "      <td>0</td>\n",
       "      <td>0.000000</td>\n",
       "    </tr>\n",
       "    <tr>\n",
       "      <th>Occupation</th>\n",
       "      <td>0</td>\n",
       "      <td>0.000000</td>\n",
       "    </tr>\n",
       "    <tr>\n",
       "      <th>City_Category</th>\n",
       "      <td>0</td>\n",
       "      <td>0.000000</td>\n",
       "    </tr>\n",
       "    <tr>\n",
       "      <th>Stay_In_Current_City_Years</th>\n",
       "      <td>0</td>\n",
       "      <td>0.000000</td>\n",
       "    </tr>\n",
       "    <tr>\n",
       "      <th>Marital_Status</th>\n",
       "      <td>0</td>\n",
       "      <td>0.000000</td>\n",
       "    </tr>\n",
       "    <tr>\n",
       "      <th>Product_Category_1</th>\n",
       "      <td>0</td>\n",
       "      <td>0.000000</td>\n",
       "    </tr>\n",
       "    <tr>\n",
       "      <th>Product_Category_2</th>\n",
       "      <td>173638</td>\n",
       "      <td>31.566643</td>\n",
       "    </tr>\n",
       "    <tr>\n",
       "      <th>Product_Category_3</th>\n",
       "      <td>383247</td>\n",
       "      <td>69.672659</td>\n",
       "    </tr>\n",
       "    <tr>\n",
       "      <th>Purchase</th>\n",
       "      <td>0</td>\n",
       "      <td>0.000000</td>\n",
       "    </tr>\n",
       "  </tbody>\n",
       "</table>\n",
       "</div>"
      ],
      "text/plain": [
       "                            missing_values  percent_missing\n",
       "User_ID                                  0         0.000000\n",
       "Product_ID                               0         0.000000\n",
       "Gender                                   0         0.000000\n",
       "Age                                      0         0.000000\n",
       "Occupation                               0         0.000000\n",
       "City_Category                            0         0.000000\n",
       "Stay_In_Current_City_Years               0         0.000000\n",
       "Marital_Status                           0         0.000000\n",
       "Product_Category_1                       0         0.000000\n",
       "Product_Category_2                  173638        31.566643\n",
       "Product_Category_3                  383247        69.672659\n",
       "Purchase                                 0         0.000000"
      ]
     },
     "execution_count": 13,
     "metadata": {},
     "output_type": "execute_result"
    }
   ],
   "source": [
    "missing_values = train.isnull().sum()\n",
    "percent_missing = train.isnull().sum()/train.shape[0]*100\n",
    "\n",
    "value = {\n",
    "    \"missing_values\": missing_values,\n",
    "    \"percent_missing\": percent_missing\n",
    "}\n",
    "frame = pd.DataFrame(value)\n",
    "frame"
   ]
  },
  {
   "cell_type": "code",
   "execution_count": 14,
   "id": "bec2d5ee",
   "metadata": {
    "execution": {
     "iopub.execute_input": "2022-02-18T20:00:31.756745Z",
     "iopub.status.busy": "2022-02-18T20:00:31.755916Z",
     "iopub.status.idle": "2022-02-18T20:00:32.242577Z",
     "shell.execute_reply": "2022-02-18T20:00:32.243521Z",
     "shell.execute_reply.started": "2022-02-18T19:01:57.998588Z"
    },
    "papermill": {
     "duration": 0.565713,
     "end_time": "2022-02-18T20:00:32.243850",
     "exception": false,
     "start_time": "2022-02-18T20:00:31.678137",
     "status": "completed"
    },
    "tags": []
   },
   "outputs": [
    {
     "data": {
      "image/png": "[encoded data removed]",
      "text/plain": [
       "<Figure size 576x576 with 1 Axes>"
      ]
     },
     "metadata": {},
     "output_type": "display_data"
    }
   ],
   "source": [
    "missing_values = train.isnull().sum()\n",
    "missing_values = missing_values[missing_values > 0]\n",
    "missing_values.sort_values(inplace=True)\n",
    "missing_values.plot.pie(explode = [0.1,0.1], autopct = '%1.1f%%', shadow = True);\n",
    "plt.title(\"Our Missing value\");"
   ]
  },
  {
   "cell_type": "markdown",
   "id": "c47c914c",
   "metadata": {
    "papermill": {
     "duration": 0.071881,
     "end_time": "2022-02-18T20:00:32.408378",
     "exception": false,
     "start_time": "2022-02-18T20:00:32.336497",
     "status": "completed"
    },
    "tags": []
   },
   "source": [
    "Only Product_Category_2 and Product_Category_3 have null values which is good news. However Product_Category_3 is null for nearly 70% of transactions so it can't give us much information. so we gonna drop Product_Category_3"
   ]
  },
  {
   "cell_type": "code",
   "execution_count": 15,
   "id": "09001080",
   "metadata": {
    "execution": {
     "iopub.execute_input": "2022-02-18T20:00:32.572886Z",
     "iopub.status.busy": "2022-02-18T20:00:32.569461Z",
     "iopub.status.idle": "2022-02-18T20:00:32.577340Z",
     "shell.execute_reply": "2022-02-18T20:00:32.576726Z",
     "shell.execute_reply.started": "2022-02-18T19:03:59.198018Z"
    },
    "papermill": {
     "duration": 0.096042,
     "end_time": "2022-02-18T20:00:32.577525",
     "exception": false,
     "start_time": "2022-02-18T20:00:32.481483",
     "status": "completed"
    },
    "tags": []
   },
   "outputs": [
    {
     "data": {
      "text/plain": [
       "8.0     64088\n",
       "14.0    55108\n",
       "2.0     49217\n",
       "16.0    43255\n",
       "15.0    37855\n",
       "5.0     26235\n",
       "4.0     25677\n",
       "6.0     16466\n",
       "11.0    14134\n",
       "17.0    13320\n",
       "13.0    10531\n",
       "9.0      5693\n",
       "12.0     5528\n",
       "10.0     3043\n",
       "3.0      2884\n",
       "18.0     2770\n",
       "7.0       626\n",
       "Name: Product_Category_2, dtype: int64"
      ]
     },
     "execution_count": 15,
     "metadata": {},
     "output_type": "execute_result"
    }
   ],
   "source": [
    "train.Product_Category_2.value_counts()"
   ]
  },
  {
   "cell_type": "code",
   "execution_count": 16,
   "id": "2cccf861",
   "metadata": {
    "execution": {
     "iopub.execute_input": "2022-02-18T20:00:32.727988Z",
     "iopub.status.busy": "2022-02-18T20:00:32.727294Z",
     "iopub.status.idle": "2022-02-18T20:00:32.764127Z",
     "shell.execute_reply": "2022-02-18T20:00:32.763393Z",
     "shell.execute_reply.started": "2022-02-18T19:04:21.737897Z"
    },
    "papermill": {
     "duration": 0.112413,
     "end_time": "2022-02-18T20:00:32.764329",
     "exception": false,
     "start_time": "2022-02-18T20:00:32.651916",
     "status": "completed"
    },
    "tags": []
   },
   "outputs": [
    {
     "data": {
      "text/plain": [
       "count    376430.000000\n",
       "mean          9.842329\n",
       "std           5.086590\n",
       "min           2.000000\n",
       "25%           5.000000\n",
       "50%           9.000000\n",
       "75%          15.000000\n",
       "max          18.000000\n",
       "Name: Product_Category_2, dtype: float64"
      ]
     },
     "execution_count": 16,
     "metadata": {},
     "output_type": "execute_result"
    }
   ],
   "source": [
    "train.Product_Category_2.describe()"
   ]
  },
  {
   "cell_type": "code",
   "execution_count": 17,
   "id": "9cecc706",
   "metadata": {
    "execution": {
     "iopub.execute_input": "2022-02-18T20:00:32.915776Z",
     "iopub.status.busy": "2022-02-18T20:00:32.914988Z",
     "iopub.status.idle": "2022-02-18T20:00:32.929897Z",
     "shell.execute_reply": "2022-02-18T20:00:32.929272Z",
     "shell.execute_reply.started": "2022-02-18T19:06:25.837657Z"
    },
    "papermill": {
     "duration": 0.092588,
     "end_time": "2022-02-18T20:00:32.930062",
     "exception": false,
     "start_time": "2022-02-18T20:00:32.837474",
     "status": "completed"
    },
    "tags": []
   },
   "outputs": [],
   "source": [
    "# Replace Using Median \n",
    "median = train[\"Product_Category_2\"].median()\n",
    "train[\"Product_Category_2\"].fillna(median, inplace = True)"
   ]
  },
  {
   "cell_type": "code",
   "execution_count": 18,
   "id": "6fd1dcba",
   "metadata": {
    "execution": {
     "iopub.execute_input": "2022-02-18T20:00:33.091058Z",
     "iopub.status.busy": "2022-02-18T20:00:33.087655Z",
     "iopub.status.idle": "2022-02-18T20:00:33.093539Z",
     "shell.execute_reply": "2022-02-18T20:00:33.094048Z",
     "shell.execute_reply.started": "2022-02-18T19:07:17.197107Z"
    },
    "papermill": {
     "duration": 0.090108,
     "end_time": "2022-02-18T20:00:33.094268",
     "exception": false,
     "start_time": "2022-02-18T20:00:33.004160",
     "status": "completed"
    },
    "tags": []
   },
   "outputs": [
    {
     "data": {
      "text/plain": [
       "16.0    32636\n",
       "15.0    28013\n",
       "14.0    18428\n",
       "17.0    16702\n",
       "5.0     16658\n",
       "8.0     12562\n",
       "9.0     11579\n",
       "12.0     9246\n",
       "13.0     5459\n",
       "6.0      4890\n",
       "18.0     4629\n",
       "4.0      1875\n",
       "11.0     1805\n",
       "10.0     1726\n",
       "3.0       613\n",
       "Name: Product_Category_3, dtype: int64"
      ]
     },
     "execution_count": 18,
     "metadata": {},
     "output_type": "execute_result"
    }
   ],
   "source": [
    "# Product_Category_3\n",
    "\n",
    "train.Product_Category_3.value_counts()"
   ]
  },
  {
   "cell_type": "code",
   "execution_count": 19,
   "id": "2dc8322e",
   "metadata": {
    "execution": {
     "iopub.execute_input": "2022-02-18T20:00:33.244612Z",
     "iopub.status.busy": "2022-02-18T20:00:33.243841Z",
     "iopub.status.idle": "2022-02-18T20:00:33.287677Z",
     "shell.execute_reply": "2022-02-18T20:00:33.286930Z",
     "shell.execute_reply.started": "2022-02-18T19:08:40.840251Z"
    },
    "papermill": {
     "duration": 0.12102,
     "end_time": "2022-02-18T20:00:33.287853",
     "exception": false,
     "start_time": "2022-02-18T20:00:33.166833",
     "status": "completed"
    },
    "tags": []
   },
   "outputs": [],
   "source": [
    "# Drop Product_Category_3\n",
    "train = train.drop(\"Product_Category_3\", axis = 1)"
   ]
  },
  {
   "cell_type": "code",
   "execution_count": 20,
   "id": "e93e9686",
   "metadata": {
    "execution": {
     "iopub.execute_input": "2022-02-18T20:00:33.440431Z",
     "iopub.status.busy": "2022-02-18T20:00:33.439673Z",
     "iopub.status.idle": "2022-02-18T20:00:34.041785Z",
     "shell.execute_reply": "2022-02-18T20:00:34.042300Z",
     "shell.execute_reply.started": "2022-02-18T19:09:02.384704Z"
    },
    "papermill": {
     "duration": 0.681124,
     "end_time": "2022-02-18T20:00:34.042497",
     "exception": false,
     "start_time": "2022-02-18T20:00:33.361373",
     "status": "completed"
    },
    "tags": []
   },
   "outputs": [
    {
     "data": {
      "text/html": [
       "<div>\n",
       "<style scoped>\n",
       "    .dataframe tbody tr th:only-of-type {\n",
       "        vertical-align: middle;\n",
       "    }\n",
       "\n",
       "    .dataframe tbody tr th {\n",
       "        vertical-align: top;\n",
       "    }\n",
       "\n",
       "    .dataframe thead th {\n",
       "        text-align: right;\n",
       "    }\n",
       "</style>\n",
       "<table border=\"1\" class=\"dataframe\">\n",
       "  <thead>\n",
       "    <tr style=\"text-align: right;\">\n",
       "      <th></th>\n",
       "      <th>missing_values</th>\n",
       "      <th>percent_missing</th>\n",
       "    </tr>\n",
       "  </thead>\n",
       "  <tbody>\n",
       "    <tr>\n",
       "      <th>User_ID</th>\n",
       "      <td>0</td>\n",
       "      <td>0.0</td>\n",
       "    </tr>\n",
       "    <tr>\n",
       "      <th>Product_ID</th>\n",
       "      <td>0</td>\n",
       "      <td>0.0</td>\n",
       "    </tr>\n",
       "    <tr>\n",
       "      <th>Gender</th>\n",
       "      <td>0</td>\n",
       "      <td>0.0</td>\n",
       "    </tr>\n",
       "    <tr>\n",
       "      <th>Age</th>\n",
       "      <td>0</td>\n",
       "      <td>0.0</td>\n",
       "    </tr>\n",
       "    <tr>\n",
       "      <th>Occupation</th>\n",
       "      <td>0</td>\n",
       "      <td>0.0</td>\n",
       "    </tr>\n",
       "    <tr>\n",
       "      <th>City_Category</th>\n",
       "      <td>0</td>\n",
       "      <td>0.0</td>\n",
       "    </tr>\n",
       "    <tr>\n",
       "      <th>Stay_In_Current_City_Years</th>\n",
       "      <td>0</td>\n",
       "      <td>0.0</td>\n",
       "    </tr>\n",
       "    <tr>\n",
       "      <th>Marital_Status</th>\n",
       "      <td>0</td>\n",
       "      <td>0.0</td>\n",
       "    </tr>\n",
       "    <tr>\n",
       "      <th>Product_Category_1</th>\n",
       "      <td>0</td>\n",
       "      <td>0.0</td>\n",
       "    </tr>\n",
       "    <tr>\n",
       "      <th>Product_Category_2</th>\n",
       "      <td>0</td>\n",
       "      <td>0.0</td>\n",
       "    </tr>\n",
       "    <tr>\n",
       "      <th>Purchase</th>\n",
       "      <td>0</td>\n",
       "      <td>0.0</td>\n",
       "    </tr>\n",
       "  </tbody>\n",
       "</table>\n",
       "</div>"
      ],
      "text/plain": [
       "                            missing_values  percent_missing\n",
       "User_ID                                  0              0.0\n",
       "Product_ID                               0              0.0\n",
       "Gender                                   0              0.0\n",
       "Age                                      0              0.0\n",
       "Occupation                               0              0.0\n",
       "City_Category                            0              0.0\n",
       "Stay_In_Current_City_Years               0              0.0\n",
       "Marital_Status                           0              0.0\n",
       "Product_Category_1                       0              0.0\n",
       "Product_Category_2                       0              0.0\n",
       "Purchase                                 0              0.0"
      ]
     },
     "execution_count": 20,
     "metadata": {},
     "output_type": "execute_result"
    }
   ],
   "source": [
    "missing_values=train.isnull().sum()\n",
    "percent_missing = train.isnull().sum()/train.shape[0]*100\n",
    "\n",
    "value = {\n",
    "    'missing_values':missing_values,\n",
    "    'percent_missing':percent_missing\n",
    "}\n",
    "frame=pd.DataFrame(value)\n",
    "frame"
   ]
  },
  {
   "cell_type": "markdown",
   "id": "2d9a6ce0",
   "metadata": {
    "papermill": {
     "duration": 0.073523,
     "end_time": "2022-02-18T20:00:34.188927",
     "exception": false,
     "start_time": "2022-02-18T20:00:34.115404",
     "status": "completed"
    },
    "tags": []
   },
   "source": [
    "### 3. Data Visualization"
   ]
  },
  {
   "cell_type": "code",
   "execution_count": 21,
   "id": "a07359f7",
   "metadata": {
    "execution": {
     "iopub.execute_input": "2022-02-18T20:00:34.342168Z",
     "iopub.status.busy": "2022-02-18T20:00:34.341478Z",
     "iopub.status.idle": "2022-02-18T20:00:35.910524Z",
     "shell.execute_reply": "2022-02-18T20:00:35.908916Z",
     "shell.execute_reply.started": "2022-02-18T19:10:46.365406Z"
    },
    "papermill": {
     "duration": 1.648176,
     "end_time": "2022-02-18T20:00:35.910715",
     "exception": false,
     "start_time": "2022-02-18T20:00:34.262539",
     "status": "completed"
    },
    "tags": []
   },
   "outputs": [
    {
     "data": {
      "image/png": "[encoded data removed]",
      "text/plain": [
       "<Figure size 864x864 with 6 Axes>"
      ]
     },
     "metadata": {},
     "output_type": "display_data"
    }
   ],
   "source": [
    "train.hist(edgecolor = 'black', figsize = (12,12));"
   ]
  },
  {
   "cell_type": "code",
   "execution_count": 22,
   "id": "60169f15",
   "metadata": {
    "execution": {
     "iopub.execute_input": "2022-02-18T20:00:36.076400Z",
     "iopub.status.busy": "2022-02-18T20:00:36.075479Z",
     "iopub.status.idle": "2022-02-18T20:00:36.080668Z",
     "shell.execute_reply": "2022-02-18T20:00:36.080038Z",
     "shell.execute_reply.started": "2022-02-18T19:11:09.473456Z"
    },
    "papermill": {
     "duration": 0.089793,
     "end_time": "2022-02-18T20:00:36.080834",
     "exception": false,
     "start_time": "2022-02-18T20:00:35.991041",
     "status": "completed"
    },
    "tags": []
   },
   "outputs": [
    {
     "data": {
      "text/plain": [
       "Index(['User_ID', 'Product_ID', 'Gender', 'Age', 'Occupation', 'City_Category',\n",
       "       'Stay_In_Current_City_Years', 'Marital_Status', 'Product_Category_1',\n",
       "       'Product_Category_2', 'Purchase'],\n",
       "      dtype='object')"
      ]
     },
     "execution_count": 22,
     "metadata": {},
     "output_type": "execute_result"
    }
   ],
   "source": [
    "train.columns"
   ]
  },
  {
   "cell_type": "markdown",
   "id": "24e3583d",
   "metadata": {
    "papermill": {
     "duration": 0.074207,
     "end_time": "2022-02-18T20:00:36.230608",
     "exception": false,
     "start_time": "2022-02-18T20:00:36.156401",
     "status": "completed"
    },
    "tags": []
   },
   "source": [
    "### A ) Gender "
   ]
  },
  {
   "cell_type": "code",
   "execution_count": 23,
   "id": "eee5db73",
   "metadata": {
    "execution": {
     "iopub.execute_input": "2022-02-18T20:00:36.483631Z",
     "iopub.status.busy": "2022-02-18T20:00:36.453713Z",
     "iopub.status.idle": "2022-02-18T20:00:36.774200Z",
     "shell.execute_reply": "2022-02-18T20:00:36.773437Z",
     "shell.execute_reply.started": "2022-02-18T19:19:28.827010Z"
    },
    "papermill": {
     "duration": 0.467955,
     "end_time": "2022-02-18T20:00:36.774437",
     "exception": false,
     "start_time": "2022-02-18T20:00:36.306482",
     "status": "completed"
    },
    "tags": []
   },
   "outputs": [
    {
     "data": {
      "image/png": "[encoded data removed]",
      "text/plain": [
       "<Figure size 720x720 with 1 Axes>"
      ]
     },
     "metadata": {},
     "output_type": "display_data"
    }
   ],
   "source": [
    "# Pie Chart \n",
    "\n",
    "size = train[\"Gender\"].value_counts()\n",
    "labels = ['Male', 'Female']\n",
    "colors = ['darkturquoise', 'green']\n",
    "explode = [0, 0.1]\n",
    "\n",
    "plt.rcParams['figure.figsize'] = (10, 10)\n",
    "plt.pie(size, colors = colors, labels = labels, shadow = True, explode = explode, autopct = '%.2f%%')\n",
    "plt.title('A Pie Chart representing the gender gap', fontsize = 20)\n",
    "plt.axis('off')\n",
    "plt.legend()\n",
    "plt.show()"
   ]
  },
  {
   "cell_type": "code",
   "execution_count": 24,
   "id": "dd4eacbf",
   "metadata": {
    "execution": {
     "iopub.execute_input": "2022-02-18T20:00:36.994187Z",
     "iopub.status.busy": "2022-02-18T20:00:36.993489Z",
     "iopub.status.idle": "2022-02-18T20:00:37.770236Z",
     "shell.execute_reply": "2022-02-18T20:00:37.770759Z",
     "shell.execute_reply.started": "2022-02-18T19:26:14.465523Z"
    },
    "papermill": {
     "duration": 0.916585,
     "end_time": "2022-02-18T20:00:37.770947",
     "exception": false,
     "start_time": "2022-02-18T20:00:36.854362",
     "status": "completed"
    },
    "tags": []
   },
   "outputs": [
    {
     "data": {
      "text/plain": [
       "Text(0.5, 1.0, 'Gender Per Transaction')"
      ]
     },
     "execution_count": 24,
     "metadata": {},
     "output_type": "execute_result"
    },
    {
     "data": {
      "image/png": "[encoded data removed]",
      "text/plain": [
       "<Figure size 720x720 with 1 Axes>"
      ]
     },
     "metadata": {},
     "output_type": "display_data"
    }
   ],
   "source": [
    "sns.countplot(x = train.Gender)\n",
    "plt.title(\"Gender Per Transaction\")"
   ]
  },
  {
   "cell_type": "markdown",
   "id": "b8d2d77b",
   "metadata": {
    "papermill": {
     "duration": 0.077021,
     "end_time": "2022-02-18T20:00:37.925959",
     "exception": false,
     "start_time": "2022-02-18T20:00:37.848938",
     "status": "completed"
    },
    "tags": []
   },
   "source": [
    "### B) Age"
   ]
  },
  {
   "cell_type": "code",
   "execution_count": 25,
   "id": "3bd9d950",
   "metadata": {
    "execution": {
     "iopub.execute_input": "2022-02-18T20:00:38.087988Z",
     "iopub.status.busy": "2022-02-18T20:00:38.087020Z",
     "iopub.status.idle": "2022-02-18T20:00:38.178099Z",
     "shell.execute_reply": "2022-02-18T20:00:38.178573Z",
     "shell.execute_reply.started": "2022-02-18T19:27:11.441656Z"
    },
    "papermill": {
     "duration": 0.175433,
     "end_time": "2022-02-18T20:00:38.178756",
     "exception": false,
     "start_time": "2022-02-18T20:00:38.003323",
     "status": "completed"
    },
    "tags": []
   },
   "outputs": [
    {
     "data": {
      "text/plain": [
       "26-35    219587\n",
       "36-45    110013\n",
       "18-25     99660\n",
       "46-50     45701\n",
       "51-55     38501\n",
       "55+       21504\n",
       "0-17      15102\n",
       "Name: Age, dtype: int64"
      ]
     },
     "execution_count": 25,
     "metadata": {},
     "output_type": "execute_result"
    }
   ],
   "source": [
    "train.Age.value_counts()"
   ]
  },
  {
   "cell_type": "code",
   "execution_count": 26,
   "id": "2cb1a73d",
   "metadata": {
    "execution": {
     "iopub.execute_input": "2022-02-18T20:00:38.424990Z",
     "iopub.status.busy": "2022-02-18T20:00:38.422263Z",
     "iopub.status.idle": "2022-02-18T20:00:38.431142Z",
     "shell.execute_reply": "2022-02-18T20:00:38.430601Z",
     "shell.execute_reply.started": "2022-02-18T19:29:20.796298Z"
    },
    "papermill": {
     "duration": 0.175508,
     "end_time": "2022-02-18T20:00:38.431303",
     "exception": false,
     "start_time": "2022-02-18T20:00:38.255795",
     "status": "completed"
    },
    "tags": []
   },
   "outputs": [
    {
     "data": {
      "text/plain": [
       "Index(['26-35', '36-45', '18-25', '46-50', '51-55', '55+', '0-17'], dtype='object')"
      ]
     },
     "execution_count": 26,
     "metadata": {},
     "output_type": "execute_result"
    }
   ],
   "source": [
    "train.Age.value_counts().index"
   ]
  },
  {
   "cell_type": "code",
   "execution_count": 27,
   "id": "caac293f",
   "metadata": {
    "execution": {
     "iopub.execute_input": "2022-02-18T20:00:38.679832Z",
     "iopub.status.busy": "2022-02-18T20:00:38.678702Z",
     "iopub.status.idle": "2022-02-18T20:00:38.683753Z",
     "shell.execute_reply": "2022-02-18T20:00:38.682980Z",
     "shell.execute_reply.started": "2022-02-18T19:29:39.555060Z"
    },
    "papermill": {
     "duration": 0.174047,
     "end_time": "2022-02-18T20:00:38.683926",
     "exception": false,
     "start_time": "2022-02-18T20:00:38.509879",
     "status": "completed"
    },
    "tags": []
   },
   "outputs": [
    {
     "data": {
      "text/plain": [
       "array([219587, 110013,  99660,  45701,  38501,  21504,  15102])"
      ]
     },
     "execution_count": 27,
     "metadata": {},
     "output_type": "execute_result"
    }
   ],
   "source": [
    "train.Age.value_counts().values"
   ]
  },
  {
   "cell_type": "code",
   "execution_count": null,
   "id": "8f298c94",
   "metadata": {
    "execution": {
     "iopub.execute_input": "2022-02-18T19:30:15.897343Z",
     "iopub.status.busy": "2022-02-18T19:30:15.896996Z",
     "iopub.status.idle": "2022-02-18T19:30:17.129227Z",
     "shell.execute_reply": "2022-02-18T19:30:17.128130Z",
     "shell.execute_reply.started": "2022-02-18T19:30:15.897305Z"
    },
    "papermill": {
     "duration": 0.080356,
     "end_time": "2022-02-18T20:00:38.844697",
     "exception": false,
     "start_time": "2022-02-18T20:00:38.764341",
     "status": "completed"
    },
    "tags": []
   },
   "outputs": [],
   "source": []
  },
  {
   "cell_type": "markdown",
   "id": "665b17d7",
   "metadata": {
    "papermill": {
     "duration": 0.083435,
     "end_time": "2022-02-18T20:00:39.018719",
     "exception": false,
     "start_time": "2022-02-18T20:00:38.935284",
     "status": "completed"
    },
    "tags": []
   },
   "source": [
    "### C) the occupation of customers"
   ]
  },
  {
   "cell_type": "code",
   "execution_count": 28,
   "id": "fcb91965",
   "metadata": {
    "execution": {
     "iopub.execute_input": "2022-02-18T20:00:39.206917Z",
     "iopub.status.busy": "2022-02-18T20:00:39.205811Z",
     "iopub.status.idle": "2022-02-18T20:00:39.208165Z",
     "shell.execute_reply": "2022-02-18T20:00:39.209063Z",
     "shell.execute_reply.started": "2022-02-18T19:33:00.265498Z"
    },
    "papermill": {
     "duration": 0.095441,
     "end_time": "2022-02-18T20:00:39.209370",
     "exception": false,
     "start_time": "2022-02-18T20:00:39.113929",
     "status": "completed"
    },
    "tags": []
   },
   "outputs": [],
   "source": [
    "palette=sns.color_palette(\"Set2\")"
   ]
  },
  {
   "cell_type": "code",
   "execution_count": 29,
   "id": "0e6e6b94",
   "metadata": {
    "execution": {
     "iopub.execute_input": "2022-02-18T20:00:39.396946Z",
     "iopub.status.busy": "2022-02-18T20:00:39.396223Z",
     "iopub.status.idle": "2022-02-18T20:00:39.841716Z",
     "shell.execute_reply": "2022-02-18T20:00:39.842443Z",
     "shell.execute_reply.started": "2022-02-18T19:33:13.106190Z"
    },
    "papermill": {
     "duration": 0.53976,
     "end_time": "2022-02-18T20:00:39.842736",
     "exception": false,
     "start_time": "2022-02-18T20:00:39.302976",
     "status": "completed"
    },
    "tags": []
   },
   "outputs": [
    {
     "name": "stderr",
     "output_type": "stream",
     "text": [
      "/opt/conda/lib/python3.7/site-packages/seaborn/_decorators.py:43: FutureWarning:\n",
      "\n",
      "Pass the following variable as a keyword arg: x. From version 0.12, the only valid positional argument will be `data`, and passing other arguments without an explicit keyword will result in an error or misinterpretation.\n",
      "\n"
     ]
    },
    {
     "data": {
      "image/png": "[encoded data removed]",
      "text/plain": [
       "<Figure size 1296x648 with 1 Axes>"
      ]
     },
     "metadata": {},
     "output_type": "display_data"
    }
   ],
   "source": [
    "plt.rcParams['figure.figsize'] = (18, 9)\n",
    "sns.countplot(train['Occupation'], palette = palette)\n",
    "plt.title('Distribution of Occupation across customers', fontsize = 20)\n",
    "plt.xlabel('Occupation')\n",
    "plt.ylabel('Count')\n",
    "plt.show()"
   ]
  },
  {
   "cell_type": "markdown",
   "id": "e3f7be53",
   "metadata": {
    "papermill": {
     "duration": 0.081346,
     "end_time": "2022-02-18T20:00:40.017289",
     "exception": false,
     "start_time": "2022-02-18T20:00:39.935943",
     "status": "completed"
    },
    "tags": []
   },
   "source": [
    "### Total Money Spent Per Occupation"
   ]
  },
  {
   "cell_type": "code",
   "execution_count": 30,
   "id": "f2fa43e4",
   "metadata": {
    "execution": {
     "iopub.execute_input": "2022-02-18T20:00:40.192049Z",
     "iopub.status.busy": "2022-02-18T20:00:40.191184Z",
     "iopub.status.idle": "2022-02-18T20:00:40.657757Z",
     "shell.execute_reply": "2022-02-18T20:00:40.657089Z",
     "shell.execute_reply.started": "2022-02-18T19:34:24.682646Z"
    },
    "papermill": {
     "duration": 0.556672,
     "end_time": "2022-02-18T20:00:40.657905",
     "exception": false,
     "start_time": "2022-02-18T20:00:40.101233",
     "status": "completed"
    },
    "tags": []
   },
   "outputs": [
    {
     "data": {
      "image/png": "[encoded data removed]",
      "text/plain": [
       "<Figure size 1440x504 with 1 Axes>"
      ]
     },
     "metadata": {},
     "output_type": "display_data"
    }
   ],
   "source": [
    "spent_by_occ = train.groupby(by='Occupation').sum()['Purchase']\n",
    "plt.figure(figsize=(20, 7))\n",
    "\n",
    "sns.barplot(x=spent_by_occ.index,y=spent_by_occ.values)\n",
    "plt.title('Total Money Spent per Occupation')\n",
    "plt.show()"
   ]
  },
  {
   "cell_type": "markdown",
   "id": "7a1b97b1",
   "metadata": {
    "execution": {
     "iopub.execute_input": "2022-02-18T19:35:06.529593Z",
     "iopub.status.busy": "2022-02-18T19:35:06.528392Z",
     "iopub.status.idle": "2022-02-18T19:35:06.534564Z",
     "shell.execute_reply": "2022-02-18T19:35:06.533646Z",
     "shell.execute_reply.started": "2022-02-18T19:35:06.529497Z"
    },
    "papermill": {
     "duration": 0.081499,
     "end_time": "2022-02-18T20:00:40.820019",
     "exception": false,
     "start_time": "2022-02-18T20:00:40.738520",
     "status": "completed"
    },
    "tags": []
   },
   "source": [
    "### D) City_Category"
   ]
  },
  {
   "cell_type": "code",
   "execution_count": 31,
   "id": "2c2dd7c5",
   "metadata": {
    "execution": {
     "iopub.execute_input": "2022-02-18T20:00:41.052354Z",
     "iopub.status.busy": "2022-02-18T20:00:41.051333Z",
     "iopub.status.idle": "2022-02-18T20:00:41.825865Z",
     "shell.execute_reply": "2022-02-18T20:00:41.825238Z",
     "shell.execute_reply.started": "2022-02-18T19:35:19.794910Z"
    },
    "papermill": {
     "duration": 0.923028,
     "end_time": "2022-02-18T20:00:41.826030",
     "exception": false,
     "start_time": "2022-02-18T20:00:40.903002",
     "status": "completed"
    },
    "tags": []
   },
   "outputs": [
    {
     "name": "stderr",
     "output_type": "stream",
     "text": [
      "/opt/conda/lib/python3.7/site-packages/seaborn/_decorators.py:43: FutureWarning:\n",
      "\n",
      "Pass the following variable as a keyword arg: x. From version 0.12, the only valid positional argument will be `data`, and passing other arguments without an explicit keyword will result in an error or misinterpretation.\n",
      "\n"
     ]
    },
    {
     "data": {
      "image/png": "[encoded data removed]",
      "text/plain": [
       "<Figure size 1296x648 with 1 Axes>"
      ]
     },
     "metadata": {},
     "output_type": "display_data"
    }
   ],
   "source": [
    "plt.rcParams['figure.figsize'] = (18, 9)\n",
    "sns.countplot(train['City_Category'], palette = palette)\n",
    "plt.title('Distribution of Cities across customers', fontsize = 20)\n",
    "plt.xlabel('Cities')\n",
    "plt.ylabel('Count')\n",
    "plt.show()"
   ]
  },
  {
   "cell_type": "markdown",
   "id": "33f354a7",
   "metadata": {
    "papermill": {
     "duration": 0.082755,
     "end_time": "2022-02-18T20:00:42.000960",
     "exception": false,
     "start_time": "2022-02-18T20:00:41.918205",
     "status": "completed"
    },
    "tags": []
   },
   "source": [
    "### E) Products\n",
    "\n",
    "Here we explore the products themselves. This is important, as we do not have labeled items in this dataset. Theoretically, a customer could be spending $5,000 on 4 new TVs, or 10,000 pens. This difference matters for stores, as their profits are affected. Since we do not know what the items are, let's explore the categories of the items."
   ]
  },
  {
   "cell_type": "code",
   "execution_count": 32,
   "id": "3f30d9eb",
   "metadata": {
    "execution": {
     "iopub.execute_input": "2022-02-18T20:00:42.178788Z",
     "iopub.status.busy": "2022-02-18T20:00:42.177936Z",
     "iopub.status.idle": "2022-02-18T20:00:42.711460Z",
     "shell.execute_reply": "2022-02-18T20:00:42.710864Z",
     "shell.execute_reply.started": "2022-02-18T19:36:16.609567Z"
    },
    "papermill": {
     "duration": 0.624172,
     "end_time": "2022-02-18T20:00:42.711613",
     "exception": false,
     "start_time": "2022-02-18T20:00:42.087441",
     "status": "completed"
    },
    "tags": []
   },
   "outputs": [
    {
     "data": {
      "image/png": "[encoded data removed]",
      "text/plain": [
       "<Figure size 1440x432 with 1 Axes>"
      ]
     },
     "metadata": {},
     "output_type": "display_data"
    }
   ],
   "source": [
    "plt.figure(figsize=(20,6))\n",
    "prod_by_cat = train.groupby('Product_Category_1')['Product_ID'].nunique()\n",
    "\n",
    "sns.barplot(x=prod_by_cat.index,y=prod_by_cat.values, palette=palette)\n",
    "plt.title('Number of Unique Items per Category')\n",
    "plt.show()"
   ]
  },
  {
   "cell_type": "markdown",
   "id": "548508dd",
   "metadata": {
    "papermill": {
     "duration": 0.086531,
     "end_time": "2022-02-18T20:00:42.882663",
     "exception": false,
     "start_time": "2022-02-18T20:00:42.796132",
     "status": "completed"
    },
    "tags": []
   },
   "source": [
    "Category labels 1, 5, and 8 clearly have the most items within them. This could mean the store is known for that item, or that the category is a broad one."
   ]
  },
  {
   "cell_type": "code",
   "execution_count": 33,
   "id": "e4c601b6",
   "metadata": {
    "execution": {
     "iopub.execute_input": "2022-02-18T20:00:43.070592Z",
     "iopub.status.busy": "2022-02-18T20:00:43.069841Z",
     "iopub.status.idle": "2022-02-18T20:00:43.689530Z",
     "shell.execute_reply": "2022-02-18T20:00:43.690197Z",
     "shell.execute_reply.started": "2022-02-18T19:36:56.969915Z"
    },
    "papermill": {
     "duration": 0.712711,
     "end_time": "2022-02-18T20:00:43.690391",
     "exception": false,
     "start_time": "2022-02-18T20:00:42.977680",
     "status": "completed"
    },
    "tags": []
   },
   "outputs": [
    {
     "data": {
      "image/png": "[encoded data removed]",
      "text/plain": [
       "<Figure size 1440x432 with 1 Axes>"
      ]
     },
     "metadata": {},
     "output_type": "display_data"
    }
   ],
   "source": [
    "category = []\n",
    "mean_purchase = []\n",
    "\n",
    "\n",
    "for i in train['Product_Category_1'].unique():\n",
    "    category.append(i)\n",
    "category.sort()\n",
    "\n",
    "for e in category:\n",
    "    mean_purchase.append(train[train['Product_Category_1']==e]['Purchase'].mean())\n",
    "\n",
    "plt.figure(figsize=(20,6))\n",
    "\n",
    "sns.barplot(x=category,y=mean_purchase)\n",
    "plt.title('Mean of the Purchases per Category')\n",
    "plt.xlabel('Product Category')\n",
    "plt.ylabel('Mean Purchase')\n",
    "plt.show()"
   ]
  },
  {
   "cell_type": "code",
   "execution_count": 34,
   "id": "940f4255",
   "metadata": {
    "execution": {
     "iopub.execute_input": "2022-02-18T20:00:43.877746Z",
     "iopub.status.busy": "2022-02-18T20:00:43.877031Z",
     "iopub.status.idle": "2022-02-18T20:00:44.785277Z",
     "shell.execute_reply": "2022-02-18T20:00:44.784448Z",
     "shell.execute_reply.started": "2022-02-18T19:37:25.107991Z"
    },
    "papermill": {
     "duration": 1.002891,
     "end_time": "2022-02-18T20:00:44.785453",
     "exception": false,
     "start_time": "2022-02-18T20:00:43.782562",
     "status": "completed"
    },
    "tags": []
   },
   "outputs": [
    {
     "name": "stderr",
     "output_type": "stream",
     "text": [
      "/opt/conda/lib/python3.7/site-packages/seaborn/_decorators.py:43: FutureWarning:\n",
      "\n",
      "Pass the following variable as a keyword arg: x. From version 0.12, the only valid positional argument will be `data`, and passing other arguments without an explicit keyword will result in an error or misinterpretation.\n",
      "\n",
      "/opt/conda/lib/python3.7/site-packages/seaborn/_decorators.py:43: FutureWarning:\n",
      "\n",
      "Pass the following variable as a keyword arg: x. From version 0.12, the only valid positional argument will be `data`, and passing other arguments without an explicit keyword will result in an error or misinterpretation.\n",
      "\n"
     ]
    },
    {
     "data": {
      "image/png": "[encoded data removed]",
      "text/plain": [
       "<Figure size 1080x1800 with 2 Axes>"
      ]
     },
     "metadata": {},
     "output_type": "display_data"
    }
   ],
   "source": [
    "# visualizing the different product categories\n",
    "\n",
    "plt.rcParams['figure.figsize'] = (15, 25)\n",
    "plt.style.use('ggplot')\n",
    "\n",
    "plt.subplot(4, 1, 1)\n",
    "sns.countplot(train['Product_Category_1'], palette = palette)\n",
    "plt.title('Product Category 1', fontsize = 20)\n",
    "plt.xlabel('Distribution of Product Category 1')\n",
    "plt.ylabel('Count')\n",
    "\n",
    "plt.subplot(4, 1, 2)\n",
    "sns.countplot(train['Product_Category_2'], palette = palette)\n",
    "plt.title('Product Category 2', fontsize = 20)\n",
    "plt.xlabel('Distribution of Product Category 2')\n",
    "plt.ylabel('Count')\n",
    "\n",
    "\n",
    "plt.show()"
   ]
  },
  {
   "cell_type": "markdown",
   "id": "3e41a0b5",
   "metadata": {
    "papermill": {
     "duration": 0.095032,
     "end_time": "2022-02-18T20:00:44.970605",
     "exception": false,
     "start_time": "2022-02-18T20:00:44.875573",
     "status": "completed"
    },
    "tags": []
   },
   "source": [
    "**the purchase attribute which is our target variable**"
   ]
  },
  {
   "cell_type": "code",
   "execution_count": 35,
   "id": "336d5f14",
   "metadata": {
    "execution": {
     "iopub.execute_input": "2022-02-18T20:00:45.172744Z",
     "iopub.status.busy": "2022-02-18T20:00:45.171715Z",
     "iopub.status.idle": "2022-02-18T20:00:45.174938Z",
     "shell.execute_reply": "2022-02-18T20:00:45.174189Z",
     "shell.execute_reply.started": "2022-02-18T19:38:10.002654Z"
    },
    "papermill": {
     "duration": 0.104178,
     "end_time": "2022-02-18T20:00:45.175109",
     "exception": false,
     "start_time": "2022-02-18T20:00:45.070931",
     "status": "completed"
    },
    "tags": []
   },
   "outputs": [],
   "source": [
    "# importing important libraries\n",
    "from scipy import stats\n",
    "from scipy.stats import norm"
   ]
  },
  {
   "cell_type": "code",
   "execution_count": 36,
   "id": "ad1a39e3",
   "metadata": {
    "execution": {
     "iopub.execute_input": "2022-02-18T20:00:45.388394Z",
     "iopub.status.busy": "2022-02-18T20:00:45.387222Z",
     "iopub.status.idle": "2022-02-18T20:00:48.452286Z",
     "shell.execute_reply": "2022-02-18T20:00:48.452864Z",
     "shell.execute_reply.started": "2022-02-18T19:38:32.813454Z"
    },
    "papermill": {
     "duration": 3.181053,
     "end_time": "2022-02-18T20:00:48.453078",
     "exception": false,
     "start_time": "2022-02-18T20:00:45.272025",
     "status": "completed"
    },
    "tags": []
   },
   "outputs": [
    {
     "name": "stderr",
     "output_type": "stream",
     "text": [
      "/opt/conda/lib/python3.7/site-packages/seaborn/distributions.py:2619: FutureWarning:\n",
      "\n",
      "`distplot` is a deprecated function and will be removed in a future version. Please adapt your code to use either `displot` (a figure-level function with similar flexibility) or `histplot` (an axes-level function for histograms).\n",
      "\n"
     ]
    },
    {
     "name": "stdout",
     "output_type": "stream",
     "text": [
      "The mu 9263.968712959126 and Sigma 5023.060827959928 for the curve\n"
     ]
    },
    {
     "data": {
      "image/png": "[encoded data removed]",
      "text/plain": [
       "<Figure size 1440x504 with 1 Axes>"
      ]
     },
     "metadata": {},
     "output_type": "display_data"
    }
   ],
   "source": [
    "# plotting a distribution plot for the target variable\n",
    "plt.rcParams['figure.figsize'] = (20, 7)\n",
    "sns.distplot(train['Purchase'], color = 'green', fit = norm)\n",
    "\n",
    "# fitting the target variable to the normal curve \n",
    "mu, sigma = norm.fit(train['Purchase']) \n",
    "print(\"The mu {} and Sigma {} for the curve\".format(mu, sigma))\n",
    "\n",
    "plt.title('A distribution plot to represent the distribution of Purchase')\n",
    "plt.legend(['Normal Distribution ($mu$: {}, $sigma$: {}'.format(mu, sigma)], loc = 'best')\n",
    "plt.show()"
   ]
  },
  {
   "cell_type": "markdown",
   "id": "f7c10c87",
   "metadata": {
    "papermill": {
     "duration": 0.094213,
     "end_time": "2022-02-18T20:00:48.641420",
     "exception": false,
     "start_time": "2022-02-18T20:00:48.547207",
     "status": "completed"
    },
    "tags": []
   },
   "source": [
    "## data selection\n",
    "\n",
    "first we gonna drop the :\n",
    "\n",
    "1. User_ID\n",
    "2. Product_ID"
   ]
  },
  {
   "cell_type": "code",
   "execution_count": 37,
   "id": "eef69e9d",
   "metadata": {
    "execution": {
     "iopub.execute_input": "2022-02-18T20:00:48.833891Z",
     "iopub.status.busy": "2022-02-18T20:00:48.833139Z",
     "iopub.status.idle": "2022-02-18T20:00:48.876787Z",
     "shell.execute_reply": "2022-02-18T20:00:48.876071Z",
     "shell.execute_reply.started": "2022-02-18T19:39:44.394027Z"
    },
    "papermill": {
     "duration": 0.142459,
     "end_time": "2022-02-18T20:00:48.876974",
     "exception": false,
     "start_time": "2022-02-18T20:00:48.734515",
     "status": "completed"
    },
    "tags": []
   },
   "outputs": [],
   "source": [
    "train = train.drop(['Product_ID','User_ID'],axis=1)"
   ]
  },
  {
   "cell_type": "code",
   "execution_count": 38,
   "id": "3ddc2fa2",
   "metadata": {
    "execution": {
     "iopub.execute_input": "2022-02-18T20:00:49.066216Z",
     "iopub.status.busy": "2022-02-18T20:00:49.065597Z",
     "iopub.status.idle": "2022-02-18T20:00:49.089667Z",
     "shell.execute_reply": "2022-02-18T20:00:49.089119Z",
     "shell.execute_reply.started": "2022-02-18T19:39:54.033711Z"
    },
    "papermill": {
     "duration": 0.120167,
     "end_time": "2022-02-18T20:00:49.089818",
     "exception": false,
     "start_time": "2022-02-18T20:00:48.969651",
     "status": "completed"
    },
    "tags": []
   },
   "outputs": [
    {
     "name": "stdout",
     "output_type": "stream",
     "text": [
      "(550068, 9)\n"
     ]
    },
    {
     "data": {
      "text/html": [
       "<div>\n",
       "<style scoped>\n",
       "    .dataframe tbody tr th:only-of-type {\n",
       "        vertical-align: middle;\n",
       "    }\n",
       "\n",
       "    .dataframe tbody tr th {\n",
       "        vertical-align: top;\n",
       "    }\n",
       "\n",
       "    .dataframe thead th {\n",
       "        text-align: right;\n",
       "    }\n",
       "</style>\n",
       "<table border=\"1\" class=\"dataframe\">\n",
       "  <thead>\n",
       "    <tr style=\"text-align: right;\">\n",
       "      <th></th>\n",
       "      <th>Gender</th>\n",
       "      <th>Age</th>\n",
       "      <th>Occupation</th>\n",
       "      <th>City_Category</th>\n",
       "      <th>Stay_In_Current_City_Years</th>\n",
       "      <th>Marital_Status</th>\n",
       "      <th>Product_Category_1</th>\n",
       "      <th>Product_Category_2</th>\n",
       "      <th>Purchase</th>\n",
       "    </tr>\n",
       "  </thead>\n",
       "  <tbody>\n",
       "    <tr>\n",
       "      <th>0</th>\n",
       "      <td>F</td>\n",
       "      <td>0-17</td>\n",
       "      <td>10</td>\n",
       "      <td>A</td>\n",
       "      <td>2</td>\n",
       "      <td>0</td>\n",
       "      <td>3</td>\n",
       "      <td>9.0</td>\n",
       "      <td>8370</td>\n",
       "    </tr>\n",
       "    <tr>\n",
       "      <th>1</th>\n",
       "      <td>F</td>\n",
       "      <td>0-17</td>\n",
       "      <td>10</td>\n",
       "      <td>A</td>\n",
       "      <td>2</td>\n",
       "      <td>0</td>\n",
       "      <td>1</td>\n",
       "      <td>6.0</td>\n",
       "      <td>15200</td>\n",
       "    </tr>\n",
       "    <tr>\n",
       "      <th>2</th>\n",
       "      <td>F</td>\n",
       "      <td>0-17</td>\n",
       "      <td>10</td>\n",
       "      <td>A</td>\n",
       "      <td>2</td>\n",
       "      <td>0</td>\n",
       "      <td>12</td>\n",
       "      <td>9.0</td>\n",
       "      <td>1422</td>\n",
       "    </tr>\n",
       "    <tr>\n",
       "      <th>3</th>\n",
       "      <td>F</td>\n",
       "      <td>0-17</td>\n",
       "      <td>10</td>\n",
       "      <td>A</td>\n",
       "      <td>2</td>\n",
       "      <td>0</td>\n",
       "      <td>12</td>\n",
       "      <td>14.0</td>\n",
       "      <td>1057</td>\n",
       "    </tr>\n",
       "    <tr>\n",
       "      <th>4</th>\n",
       "      <td>M</td>\n",
       "      <td>55+</td>\n",
       "      <td>16</td>\n",
       "      <td>C</td>\n",
       "      <td>4+</td>\n",
       "      <td>0</td>\n",
       "      <td>8</td>\n",
       "      <td>9.0</td>\n",
       "      <td>7969</td>\n",
       "    </tr>\n",
       "    <tr>\n",
       "      <th>...</th>\n",
       "      <td>...</td>\n",
       "      <td>...</td>\n",
       "      <td>...</td>\n",
       "      <td>...</td>\n",
       "      <td>...</td>\n",
       "      <td>...</td>\n",
       "      <td>...</td>\n",
       "      <td>...</td>\n",
       "      <td>...</td>\n",
       "    </tr>\n",
       "    <tr>\n",
       "      <th>550063</th>\n",
       "      <td>M</td>\n",
       "      <td>51-55</td>\n",
       "      <td>13</td>\n",
       "      <td>B</td>\n",
       "      <td>1</td>\n",
       "      <td>1</td>\n",
       "      <td>20</td>\n",
       "      <td>9.0</td>\n",
       "      <td>368</td>\n",
       "    </tr>\n",
       "    <tr>\n",
       "      <th>550064</th>\n",
       "      <td>F</td>\n",
       "      <td>26-35</td>\n",
       "      <td>1</td>\n",
       "      <td>C</td>\n",
       "      <td>3</td>\n",
       "      <td>0</td>\n",
       "      <td>20</td>\n",
       "      <td>9.0</td>\n",
       "      <td>371</td>\n",
       "    </tr>\n",
       "    <tr>\n",
       "      <th>550065</th>\n",
       "      <td>F</td>\n",
       "      <td>26-35</td>\n",
       "      <td>15</td>\n",
       "      <td>B</td>\n",
       "      <td>4+</td>\n",
       "      <td>1</td>\n",
       "      <td>20</td>\n",
       "      <td>9.0</td>\n",
       "      <td>137</td>\n",
       "    </tr>\n",
       "    <tr>\n",
       "      <th>550066</th>\n",
       "      <td>F</td>\n",
       "      <td>55+</td>\n",
       "      <td>1</td>\n",
       "      <td>C</td>\n",
       "      <td>2</td>\n",
       "      <td>0</td>\n",
       "      <td>20</td>\n",
       "      <td>9.0</td>\n",
       "      <td>365</td>\n",
       "    </tr>\n",
       "    <tr>\n",
       "      <th>550067</th>\n",
       "      <td>F</td>\n",
       "      <td>46-50</td>\n",
       "      <td>0</td>\n",
       "      <td>B</td>\n",
       "      <td>4+</td>\n",
       "      <td>1</td>\n",
       "      <td>20</td>\n",
       "      <td>9.0</td>\n",
       "      <td>490</td>\n",
       "    </tr>\n",
       "  </tbody>\n",
       "</table>\n",
       "<p>550068 rows × 9 columns</p>\n",
       "</div>"
      ],
      "text/plain": [
       "       Gender    Age  Occupation City_Category Stay_In_Current_City_Years  \\\n",
       "0           F   0-17          10             A                          2   \n",
       "1           F   0-17          10             A                          2   \n",
       "2           F   0-17          10             A                          2   \n",
       "3           F   0-17          10             A                          2   \n",
       "4           M    55+          16             C                         4+   \n",
       "...       ...    ...         ...           ...                        ...   \n",
       "550063      M  51-55          13             B                          1   \n",
       "550064      F  26-35           1             C                          3   \n",
       "550065      F  26-35          15             B                         4+   \n",
       "550066      F    55+           1             C                          2   \n",
       "550067      F  46-50           0             B                         4+   \n",
       "\n",
       "        Marital_Status  Product_Category_1  Product_Category_2  Purchase  \n",
       "0                    0                   3                 9.0      8370  \n",
       "1                    0                   1                 6.0     15200  \n",
       "2                    0                  12                 9.0      1422  \n",
       "3                    0                  12                14.0      1057  \n",
       "4                    0                   8                 9.0      7969  \n",
       "...                ...                 ...                 ...       ...  \n",
       "550063               1                  20                 9.0       368  \n",
       "550064               0                  20                 9.0       371  \n",
       "550065               1                  20                 9.0       137  \n",
       "550066               0                  20                 9.0       365  \n",
       "550067               1                  20                 9.0       490  \n",
       "\n",
       "[550068 rows x 9 columns]"
      ]
     },
     "execution_count": 38,
     "metadata": {},
     "output_type": "execute_result"
    }
   ],
   "source": [
    "# checking the new shape of data\n",
    "print(train.shape)\n",
    "train"
   ]
  },
  {
   "cell_type": "markdown",
   "id": "1af3e0f4",
   "metadata": {
    "papermill": {
     "duration": 0.090026,
     "end_time": "2022-02-18T20:00:49.271589",
     "exception": false,
     "start_time": "2022-02-18T20:00:49.181563",
     "status": "completed"
    },
    "tags": []
   },
   "source": [
    "### Label Encoding "
   ]
  },
  {
   "cell_type": "code",
   "execution_count": 39,
   "id": "1a3bdc88",
   "metadata": {
    "execution": {
     "iopub.execute_input": "2022-02-18T20:00:49.457297Z",
     "iopub.status.busy": "2022-02-18T20:00:49.456632Z",
     "iopub.status.idle": "2022-02-18T20:00:49.751515Z",
     "shell.execute_reply": "2022-02-18T20:00:49.750848Z",
     "shell.execute_reply.started": "2022-02-18T19:40:48.128425Z"
    },
    "papermill": {
     "duration": 0.388905,
     "end_time": "2022-02-18T20:00:49.751663",
     "exception": false,
     "start_time": "2022-02-18T20:00:49.362758",
     "status": "completed"
    },
    "tags": []
   },
   "outputs": [
    {
     "data": {
      "text/html": [
       "<div>\n",
       "<style scoped>\n",
       "    .dataframe tbody tr th:only-of-type {\n",
       "        vertical-align: middle;\n",
       "    }\n",
       "\n",
       "    .dataframe tbody tr th {\n",
       "        vertical-align: top;\n",
       "    }\n",
       "\n",
       "    .dataframe thead th {\n",
       "        text-align: right;\n",
       "    }\n",
       "</style>\n",
       "<table border=\"1\" class=\"dataframe\">\n",
       "  <thead>\n",
       "    <tr style=\"text-align: right;\">\n",
       "      <th></th>\n",
       "      <th>Gender</th>\n",
       "      <th>Age</th>\n",
       "      <th>Occupation</th>\n",
       "      <th>City_Category</th>\n",
       "      <th>Stay_In_Current_City_Years</th>\n",
       "      <th>Marital_Status</th>\n",
       "      <th>Product_Category_1</th>\n",
       "      <th>Product_Category_2</th>\n",
       "      <th>Purchase</th>\n",
       "      <th>F</th>\n",
       "      <th>...</th>\n",
       "      <th>51-55</th>\n",
       "      <th>55+</th>\n",
       "      <th>A</th>\n",
       "      <th>B</th>\n",
       "      <th>C</th>\n",
       "      <th>0</th>\n",
       "      <th>1</th>\n",
       "      <th>2</th>\n",
       "      <th>3</th>\n",
       "      <th>4+</th>\n",
       "    </tr>\n",
       "  </thead>\n",
       "  <tbody>\n",
       "    <tr>\n",
       "      <th>0</th>\n",
       "      <td>F</td>\n",
       "      <td>0-17</td>\n",
       "      <td>10</td>\n",
       "      <td>A</td>\n",
       "      <td>2</td>\n",
       "      <td>0</td>\n",
       "      <td>3</td>\n",
       "      <td>9.0</td>\n",
       "      <td>8370</td>\n",
       "      <td>1</td>\n",
       "      <td>...</td>\n",
       "      <td>0</td>\n",
       "      <td>0</td>\n",
       "      <td>1</td>\n",
       "      <td>0</td>\n",
       "      <td>0</td>\n",
       "      <td>0</td>\n",
       "      <td>0</td>\n",
       "      <td>1</td>\n",
       "      <td>0</td>\n",
       "      <td>0</td>\n",
       "    </tr>\n",
       "    <tr>\n",
       "      <th>1</th>\n",
       "      <td>F</td>\n",
       "      <td>0-17</td>\n",
       "      <td>10</td>\n",
       "      <td>A</td>\n",
       "      <td>2</td>\n",
       "      <td>0</td>\n",
       "      <td>1</td>\n",
       "      <td>6.0</td>\n",
       "      <td>15200</td>\n",
       "      <td>1</td>\n",
       "      <td>...</td>\n",
       "      <td>0</td>\n",
       "      <td>0</td>\n",
       "      <td>1</td>\n",
       "      <td>0</td>\n",
       "      <td>0</td>\n",
       "      <td>0</td>\n",
       "      <td>0</td>\n",
       "      <td>1</td>\n",
       "      <td>0</td>\n",
       "      <td>0</td>\n",
       "    </tr>\n",
       "    <tr>\n",
       "      <th>2</th>\n",
       "      <td>F</td>\n",
       "      <td>0-17</td>\n",
       "      <td>10</td>\n",
       "      <td>A</td>\n",
       "      <td>2</td>\n",
       "      <td>0</td>\n",
       "      <td>12</td>\n",
       "      <td>9.0</td>\n",
       "      <td>1422</td>\n",
       "      <td>1</td>\n",
       "      <td>...</td>\n",
       "      <td>0</td>\n",
       "      <td>0</td>\n",
       "      <td>1</td>\n",
       "      <td>0</td>\n",
       "      <td>0</td>\n",
       "      <td>0</td>\n",
       "      <td>0</td>\n",
       "      <td>1</td>\n",
       "      <td>0</td>\n",
       "      <td>0</td>\n",
       "    </tr>\n",
       "    <tr>\n",
       "      <th>3</th>\n",
       "      <td>F</td>\n",
       "      <td>0-17</td>\n",
       "      <td>10</td>\n",
       "      <td>A</td>\n",
       "      <td>2</td>\n",
       "      <td>0</td>\n",
       "      <td>12</td>\n",
       "      <td>14.0</td>\n",
       "      <td>1057</td>\n",
       "      <td>1</td>\n",
       "      <td>...</td>\n",
       "      <td>0</td>\n",
       "      <td>0</td>\n",
       "      <td>1</td>\n",
       "      <td>0</td>\n",
       "      <td>0</td>\n",
       "      <td>0</td>\n",
       "      <td>0</td>\n",
       "      <td>1</td>\n",
       "      <td>0</td>\n",
       "      <td>0</td>\n",
       "    </tr>\n",
       "    <tr>\n",
       "      <th>4</th>\n",
       "      <td>M</td>\n",
       "      <td>55+</td>\n",
       "      <td>16</td>\n",
       "      <td>C</td>\n",
       "      <td>4+</td>\n",
       "      <td>0</td>\n",
       "      <td>8</td>\n",
       "      <td>9.0</td>\n",
       "      <td>7969</td>\n",
       "      <td>0</td>\n",
       "      <td>...</td>\n",
       "      <td>0</td>\n",
       "      <td>1</td>\n",
       "      <td>0</td>\n",
       "      <td>0</td>\n",
       "      <td>1</td>\n",
       "      <td>0</td>\n",
       "      <td>0</td>\n",
       "      <td>0</td>\n",
       "      <td>0</td>\n",
       "      <td>1</td>\n",
       "    </tr>\n",
       "  </tbody>\n",
       "</table>\n",
       "<p>5 rows × 26 columns</p>\n",
       "</div>"
      ],
      "text/plain": [
       "  Gender   Age  Occupation City_Category Stay_In_Current_City_Years  \\\n",
       "0      F  0-17          10             A                          2   \n",
       "1      F  0-17          10             A                          2   \n",
       "2      F  0-17          10             A                          2   \n",
       "3      F  0-17          10             A                          2   \n",
       "4      M   55+          16             C                         4+   \n",
       "\n",
       "   Marital_Status  Product_Category_1  Product_Category_2  Purchase  F  ...  \\\n",
       "0               0                   3                 9.0      8370  1  ...   \n",
       "1               0                   1                 6.0     15200  1  ...   \n",
       "2               0                  12                 9.0      1422  1  ...   \n",
       "3               0                  12                14.0      1057  1  ...   \n",
       "4               0                   8                 9.0      7969  0  ...   \n",
       "\n",
       "   51-55  55+  A  B  C  0  1  2  3  4+  \n",
       "0      0    0  1  0  0  0  0  1  0   0  \n",
       "1      0    0  1  0  0  0  0  1  0   0  \n",
       "2      0    0  1  0  0  0  0  1  0   0  \n",
       "3      0    0  1  0  0  0  0  1  0   0  \n",
       "4      0    1  0  0  1  0  0  0  0   1  \n",
       "\n",
       "[5 rows x 26 columns]"
      ]
     },
     "execution_count": 39,
     "metadata": {},
     "output_type": "execute_result"
    }
   ],
   "source": [
    "df_Gender = pd.get_dummies(train['Gender'])\n",
    "df_Age = pd.get_dummies(train['Age'])\n",
    "df_City_Category = pd.get_dummies(train['City_Category'])\n",
    "df_Stay_In_Current_City_Years = pd.get_dummies(train['Stay_In_Current_City_Years'])\n",
    "\n",
    "data_final= pd.concat([train, df_Gender, df_Age, df_City_Category, df_Stay_In_Current_City_Years], axis=1)\n",
    "\n",
    "data_final.head()\n"
   ]
  },
  {
   "cell_type": "code",
   "execution_count": 40,
   "id": "40aa0a3f",
   "metadata": {
    "execution": {
     "iopub.execute_input": "2022-02-18T20:00:49.945769Z",
     "iopub.status.busy": "2022-02-18T20:00:49.944678Z",
     "iopub.status.idle": "2022-02-18T20:00:50.099039Z",
     "shell.execute_reply": "2022-02-18T20:00:50.098407Z",
     "shell.execute_reply.started": "2022-02-18T19:41:27.907440Z"
    },
    "papermill": {
     "duration": 0.255737,
     "end_time": "2022-02-18T20:00:50.099222",
     "exception": false,
     "start_time": "2022-02-18T20:00:49.843485",
     "status": "completed"
    },
    "tags": []
   },
   "outputs": [
    {
     "data": {
      "text/html": [
       "<div>\n",
       "<style scoped>\n",
       "    .dataframe tbody tr th:only-of-type {\n",
       "        vertical-align: middle;\n",
       "    }\n",
       "\n",
       "    .dataframe tbody tr th {\n",
       "        vertical-align: top;\n",
       "    }\n",
       "\n",
       "    .dataframe thead th {\n",
       "        text-align: right;\n",
       "    }\n",
       "</style>\n",
       "<table border=\"1\" class=\"dataframe\">\n",
       "  <thead>\n",
       "    <tr style=\"text-align: right;\">\n",
       "      <th></th>\n",
       "      <th>Occupation</th>\n",
       "      <th>Marital_Status</th>\n",
       "      <th>Product_Category_1</th>\n",
       "      <th>Product_Category_2</th>\n",
       "      <th>Purchase</th>\n",
       "      <th>F</th>\n",
       "      <th>M</th>\n",
       "      <th>0-17</th>\n",
       "      <th>18-25</th>\n",
       "      <th>26-35</th>\n",
       "      <th>...</th>\n",
       "      <th>51-55</th>\n",
       "      <th>55+</th>\n",
       "      <th>A</th>\n",
       "      <th>B</th>\n",
       "      <th>C</th>\n",
       "      <th>0</th>\n",
       "      <th>1</th>\n",
       "      <th>2</th>\n",
       "      <th>3</th>\n",
       "      <th>4+</th>\n",
       "    </tr>\n",
       "  </thead>\n",
       "  <tbody>\n",
       "    <tr>\n",
       "      <th>0</th>\n",
       "      <td>10</td>\n",
       "      <td>0</td>\n",
       "      <td>3</td>\n",
       "      <td>9.0</td>\n",
       "      <td>8370</td>\n",
       "      <td>1</td>\n",
       "      <td>0</td>\n",
       "      <td>1</td>\n",
       "      <td>0</td>\n",
       "      <td>0</td>\n",
       "      <td>...</td>\n",
       "      <td>0</td>\n",
       "      <td>0</td>\n",
       "      <td>1</td>\n",
       "      <td>0</td>\n",
       "      <td>0</td>\n",
       "      <td>0</td>\n",
       "      <td>0</td>\n",
       "      <td>1</td>\n",
       "      <td>0</td>\n",
       "      <td>0</td>\n",
       "    </tr>\n",
       "    <tr>\n",
       "      <th>1</th>\n",
       "      <td>10</td>\n",
       "      <td>0</td>\n",
       "      <td>1</td>\n",
       "      <td>6.0</td>\n",
       "      <td>15200</td>\n",
       "      <td>1</td>\n",
       "      <td>0</td>\n",
       "      <td>1</td>\n",
       "      <td>0</td>\n",
       "      <td>0</td>\n",
       "      <td>...</td>\n",
       "      <td>0</td>\n",
       "      <td>0</td>\n",
       "      <td>1</td>\n",
       "      <td>0</td>\n",
       "      <td>0</td>\n",
       "      <td>0</td>\n",
       "      <td>0</td>\n",
       "      <td>1</td>\n",
       "      <td>0</td>\n",
       "      <td>0</td>\n",
       "    </tr>\n",
       "    <tr>\n",
       "      <th>2</th>\n",
       "      <td>10</td>\n",
       "      <td>0</td>\n",
       "      <td>12</td>\n",
       "      <td>9.0</td>\n",
       "      <td>1422</td>\n",
       "      <td>1</td>\n",
       "      <td>0</td>\n",
       "      <td>1</td>\n",
       "      <td>0</td>\n",
       "      <td>0</td>\n",
       "      <td>...</td>\n",
       "      <td>0</td>\n",
       "      <td>0</td>\n",
       "      <td>1</td>\n",
       "      <td>0</td>\n",
       "      <td>0</td>\n",
       "      <td>0</td>\n",
       "      <td>0</td>\n",
       "      <td>1</td>\n",
       "      <td>0</td>\n",
       "      <td>0</td>\n",
       "    </tr>\n",
       "    <tr>\n",
       "      <th>3</th>\n",
       "      <td>10</td>\n",
       "      <td>0</td>\n",
       "      <td>12</td>\n",
       "      <td>14.0</td>\n",
       "      <td>1057</td>\n",
       "      <td>1</td>\n",
       "      <td>0</td>\n",
       "      <td>1</td>\n",
       "      <td>0</td>\n",
       "      <td>0</td>\n",
       "      <td>...</td>\n",
       "      <td>0</td>\n",
       "      <td>0</td>\n",
       "      <td>1</td>\n",
       "      <td>0</td>\n",
       "      <td>0</td>\n",
       "      <td>0</td>\n",
       "      <td>0</td>\n",
       "      <td>1</td>\n",
       "      <td>0</td>\n",
       "      <td>0</td>\n",
       "    </tr>\n",
       "    <tr>\n",
       "      <th>4</th>\n",
       "      <td>16</td>\n",
       "      <td>0</td>\n",
       "      <td>8</td>\n",
       "      <td>9.0</td>\n",
       "      <td>7969</td>\n",
       "      <td>0</td>\n",
       "      <td>1</td>\n",
       "      <td>0</td>\n",
       "      <td>0</td>\n",
       "      <td>0</td>\n",
       "      <td>...</td>\n",
       "      <td>0</td>\n",
       "      <td>1</td>\n",
       "      <td>0</td>\n",
       "      <td>0</td>\n",
       "      <td>1</td>\n",
       "      <td>0</td>\n",
       "      <td>0</td>\n",
       "      <td>0</td>\n",
       "      <td>0</td>\n",
       "      <td>1</td>\n",
       "    </tr>\n",
       "    <tr>\n",
       "      <th>...</th>\n",
       "      <td>...</td>\n",
       "      <td>...</td>\n",
       "      <td>...</td>\n",
       "      <td>...</td>\n",
       "      <td>...</td>\n",
       "      <td>...</td>\n",
       "      <td>...</td>\n",
       "      <td>...</td>\n",
       "      <td>...</td>\n",
       "      <td>...</td>\n",
       "      <td>...</td>\n",
       "      <td>...</td>\n",
       "      <td>...</td>\n",
       "      <td>...</td>\n",
       "      <td>...</td>\n",
       "      <td>...</td>\n",
       "      <td>...</td>\n",
       "      <td>...</td>\n",
       "      <td>...</td>\n",
       "      <td>...</td>\n",
       "      <td>...</td>\n",
       "    </tr>\n",
       "    <tr>\n",
       "      <th>550063</th>\n",
       "      <td>13</td>\n",
       "      <td>1</td>\n",
       "      <td>20</td>\n",
       "      <td>9.0</td>\n",
       "      <td>368</td>\n",
       "      <td>0</td>\n",
       "      <td>1</td>\n",
       "      <td>0</td>\n",
       "      <td>0</td>\n",
       "      <td>0</td>\n",
       "      <td>...</td>\n",
       "      <td>1</td>\n",
       "      <td>0</td>\n",
       "      <td>0</td>\n",
       "      <td>1</td>\n",
       "      <td>0</td>\n",
       "      <td>0</td>\n",
       "      <td>1</td>\n",
       "      <td>0</td>\n",
       "      <td>0</td>\n",
       "      <td>0</td>\n",
       "    </tr>\n",
       "    <tr>\n",
       "      <th>550064</th>\n",
       "      <td>1</td>\n",
       "      <td>0</td>\n",
       "      <td>20</td>\n",
       "      <td>9.0</td>\n",
       "      <td>371</td>\n",
       "      <td>1</td>\n",
       "      <td>0</td>\n",
       "      <td>0</td>\n",
       "      <td>0</td>\n",
       "      <td>1</td>\n",
       "      <td>...</td>\n",
       "      <td>0</td>\n",
       "      <td>0</td>\n",
       "      <td>0</td>\n",
       "      <td>0</td>\n",
       "      <td>1</td>\n",
       "      <td>0</td>\n",
       "      <td>0</td>\n",
       "      <td>0</td>\n",
       "      <td>1</td>\n",
       "      <td>0</td>\n",
       "    </tr>\n",
       "    <tr>\n",
       "      <th>550065</th>\n",
       "      <td>15</td>\n",
       "      <td>1</td>\n",
       "      <td>20</td>\n",
       "      <td>9.0</td>\n",
       "      <td>137</td>\n",
       "      <td>1</td>\n",
       "      <td>0</td>\n",
       "      <td>0</td>\n",
       "      <td>0</td>\n",
       "      <td>1</td>\n",
       "      <td>...</td>\n",
       "      <td>0</td>\n",
       "      <td>0</td>\n",
       "      <td>0</td>\n",
       "      <td>1</td>\n",
       "      <td>0</td>\n",
       "      <td>0</td>\n",
       "      <td>0</td>\n",
       "      <td>0</td>\n",
       "      <td>0</td>\n",
       "      <td>1</td>\n",
       "    </tr>\n",
       "    <tr>\n",
       "      <th>550066</th>\n",
       "      <td>1</td>\n",
       "      <td>0</td>\n",
       "      <td>20</td>\n",
       "      <td>9.0</td>\n",
       "      <td>365</td>\n",
       "      <td>1</td>\n",
       "      <td>0</td>\n",
       "      <td>0</td>\n",
       "      <td>0</td>\n",
       "      <td>0</td>\n",
       "      <td>...</td>\n",
       "      <td>0</td>\n",
       "      <td>1</td>\n",
       "      <td>0</td>\n",
       "      <td>0</td>\n",
       "      <td>1</td>\n",
       "      <td>0</td>\n",
       "      <td>0</td>\n",
       "      <td>1</td>\n",
       "      <td>0</td>\n",
       "      <td>0</td>\n",
       "    </tr>\n",
       "    <tr>\n",
       "      <th>550067</th>\n",
       "      <td>0</td>\n",
       "      <td>1</td>\n",
       "      <td>20</td>\n",
       "      <td>9.0</td>\n",
       "      <td>490</td>\n",
       "      <td>1</td>\n",
       "      <td>0</td>\n",
       "      <td>0</td>\n",
       "      <td>0</td>\n",
       "      <td>0</td>\n",
       "      <td>...</td>\n",
       "      <td>0</td>\n",
       "      <td>0</td>\n",
       "      <td>0</td>\n",
       "      <td>1</td>\n",
       "      <td>0</td>\n",
       "      <td>0</td>\n",
       "      <td>0</td>\n",
       "      <td>0</td>\n",
       "      <td>0</td>\n",
       "      <td>1</td>\n",
       "    </tr>\n",
       "  </tbody>\n",
       "</table>\n",
       "<p>550068 rows × 22 columns</p>\n",
       "</div>"
      ],
      "text/plain": [
       "        Occupation  Marital_Status  Product_Category_1  Product_Category_2  \\\n",
       "0               10               0                   3                 9.0   \n",
       "1               10               0                   1                 6.0   \n",
       "2               10               0                  12                 9.0   \n",
       "3               10               0                  12                14.0   \n",
       "4               16               0                   8                 9.0   \n",
       "...            ...             ...                 ...                 ...   \n",
       "550063          13               1                  20                 9.0   \n",
       "550064           1               0                  20                 9.0   \n",
       "550065          15               1                  20                 9.0   \n",
       "550066           1               0                  20                 9.0   \n",
       "550067           0               1                  20                 9.0   \n",
       "\n",
       "        Purchase  F  M  0-17  18-25  26-35  ...  51-55  55+  A  B  C  0  1  2  \\\n",
       "0           8370  1  0     1      0      0  ...      0    0  1  0  0  0  0  1   \n",
       "1          15200  1  0     1      0      0  ...      0    0  1  0  0  0  0  1   \n",
       "2           1422  1  0     1      0      0  ...      0    0  1  0  0  0  0  1   \n",
       "3           1057  1  0     1      0      0  ...      0    0  1  0  0  0  0  1   \n",
       "4           7969  0  1     0      0      0  ...      0    1  0  0  1  0  0  0   \n",
       "...          ... .. ..   ...    ...    ...  ...    ...  ... .. .. .. .. .. ..   \n",
       "550063       368  0  1     0      0      0  ...      1    0  0  1  0  0  1  0   \n",
       "550064       371  1  0     0      0      1  ...      0    0  0  0  1  0  0  0   \n",
       "550065       137  1  0     0      0      1  ...      0    0  0  1  0  0  0  0   \n",
       "550066       365  1  0     0      0      0  ...      0    1  0  0  1  0  0  1   \n",
       "550067       490  1  0     0      0      0  ...      0    0  0  1  0  0  0  0   \n",
       "\n",
       "        3  4+  \n",
       "0       0   0  \n",
       "1       0   0  \n",
       "2       0   0  \n",
       "3       0   0  \n",
       "4       0   1  \n",
       "...    ..  ..  \n",
       "550063  0   0  \n",
       "550064  1   0  \n",
       "550065  0   1  \n",
       "550066  0   0  \n",
       "550067  0   1  \n",
       "\n",
       "[550068 rows x 22 columns]"
      ]
     },
     "execution_count": 40,
     "metadata": {},
     "output_type": "execute_result"
    }
   ],
   "source": [
    "data_final = data_final.drop(['Gender','Age','City_Category','Stay_In_Current_City_Years'],axis=1)\n",
    "data_final"
   ]
  },
  {
   "cell_type": "code",
   "execution_count": 41,
   "id": "671fc04f",
   "metadata": {
    "execution": {
     "iopub.execute_input": "2022-02-18T20:00:50.313109Z",
     "iopub.status.busy": "2022-02-18T20:00:50.312427Z",
     "iopub.status.idle": "2022-02-18T20:00:50.316799Z",
     "shell.execute_reply": "2022-02-18T20:00:50.316089Z",
     "shell.execute_reply.started": "2022-02-18T19:41:38.938425Z"
    },
    "papermill": {
     "duration": 0.116636,
     "end_time": "2022-02-18T20:00:50.317038",
     "exception": false,
     "start_time": "2022-02-18T20:00:50.200402",
     "status": "completed"
    },
    "tags": []
   },
   "outputs": [
    {
     "data": {
      "text/plain": [
       "Occupation              int64\n",
       "Marital_Status          int64\n",
       "Product_Category_1      int64\n",
       "Product_Category_2    float64\n",
       "Purchase                int64\n",
       "F                       uint8\n",
       "M                       uint8\n",
       "0-17                    uint8\n",
       "18-25                   uint8\n",
       "26-35                   uint8\n",
       "36-45                   uint8\n",
       "46-50                   uint8\n",
       "51-55                   uint8\n",
       "55+                     uint8\n",
       "A                       uint8\n",
       "B                       uint8\n",
       "C                       uint8\n",
       "0                       uint8\n",
       "1                       uint8\n",
       "2                       uint8\n",
       "3                       uint8\n",
       "4+                      uint8\n",
       "dtype: object"
      ]
     },
     "execution_count": 41,
     "metadata": {},
     "output_type": "execute_result"
    }
   ],
   "source": [
    "data_final.dtypes"
   ]
  },
  {
   "cell_type": "markdown",
   "id": "b90bd5f5",
   "metadata": {
    "papermill": {
     "duration": 0.099821,
     "end_time": "2022-02-18T20:00:50.527607",
     "exception": false,
     "start_time": "2022-02-18T20:00:50.427786",
     "status": "completed"
    },
    "tags": []
   },
   "source": [
    "### Split Data "
   ]
  },
  {
   "cell_type": "code",
   "execution_count": 42,
   "id": "18a31f8f",
   "metadata": {
    "execution": {
     "iopub.execute_input": "2022-02-18T20:00:50.723933Z",
     "iopub.status.busy": "2022-02-18T20:00:50.723061Z",
     "iopub.status.idle": "2022-02-18T20:00:50.932842Z",
     "shell.execute_reply": "2022-02-18T20:00:50.932182Z",
     "shell.execute_reply.started": "2022-02-18T19:42:27.131718Z"
    },
    "papermill": {
     "duration": 0.308199,
     "end_time": "2022-02-18T20:00:50.933022",
     "exception": false,
     "start_time": "2022-02-18T20:00:50.624823",
     "status": "completed"
    },
    "tags": []
   },
   "outputs": [],
   "source": [
    "from sklearn.model_selection import train_test_split\n",
    "from sklearn import metrics\n",
    "from sklearn.metrics import accuracy_score"
   ]
  },
  {
   "cell_type": "code",
   "execution_count": 43,
   "id": "13987faa",
   "metadata": {
    "execution": {
     "iopub.execute_input": "2022-02-18T20:00:51.134994Z",
     "iopub.status.busy": "2022-02-18T20:00:51.133753Z",
     "iopub.status.idle": "2022-02-18T20:00:51.148343Z",
     "shell.execute_reply": "2022-02-18T20:00:51.147665Z",
     "shell.execute_reply.started": "2022-02-18T19:42:39.908643Z"
    },
    "papermill": {
     "duration": 0.114837,
     "end_time": "2022-02-18T20:00:51.148549",
     "exception": false,
     "start_time": "2022-02-18T20:00:51.033712",
     "status": "completed"
    },
    "tags": []
   },
   "outputs": [],
   "source": [
    "x=data_final.drop('Purchase',axis=1)\n",
    "y=data_final.Purchase"
   ]
  },
  {
   "cell_type": "code",
   "execution_count": 44,
   "id": "904f9aba",
   "metadata": {
    "execution": {
     "iopub.execute_input": "2022-02-18T20:00:51.343692Z",
     "iopub.status.busy": "2022-02-18T20:00:51.342962Z",
     "iopub.status.idle": "2022-02-18T20:00:51.348345Z",
     "shell.execute_reply": "2022-02-18T20:00:51.347692Z",
     "shell.execute_reply.started": "2022-02-18T19:42:50.428858Z"
    },
    "papermill": {
     "duration": 0.103015,
     "end_time": "2022-02-18T20:00:51.348495",
     "exception": false,
     "start_time": "2022-02-18T20:00:51.245480",
     "status": "completed"
    },
    "tags": []
   },
   "outputs": [
    {
     "name": "stdout",
     "output_type": "stream",
     "text": [
      "(550068, 21)\n",
      "(550068,)\n"
     ]
    }
   ],
   "source": [
    "print(x.shape)\n",
    "print(y.shape)"
   ]
  },
  {
   "cell_type": "code",
   "execution_count": 45,
   "id": "505da9ba",
   "metadata": {
    "execution": {
     "iopub.execute_input": "2022-02-18T20:00:51.543500Z",
     "iopub.status.busy": "2022-02-18T20:00:51.541561Z",
     "iopub.status.idle": "2022-02-18T20:00:51.698212Z",
     "shell.execute_reply": "2022-02-18T20:00:51.698852Z",
     "shell.execute_reply.started": "2022-02-18T19:43:02.203443Z"
    },
    "papermill": {
     "duration": 0.256398,
     "end_time": "2022-02-18T20:00:51.699132",
     "exception": false,
     "start_time": "2022-02-18T20:00:51.442734",
     "status": "completed"
    },
    "tags": []
   },
   "outputs": [],
   "source": [
    "x_train,x_test,y_train,y_test = train_test_split(x,y,test_size=0.25)"
   ]
  },
  {
   "cell_type": "markdown",
   "id": "08a7d1ea",
   "metadata": {
    "papermill": {
     "duration": 0.101071,
     "end_time": "2022-02-18T20:00:51.898239",
     "exception": false,
     "start_time": "2022-02-18T20:00:51.797168",
     "status": "completed"
    },
    "tags": []
   },
   "source": [
    "### Feature Scaling"
   ]
  },
  {
   "cell_type": "code",
   "execution_count": 46,
   "id": "032fce79",
   "metadata": {
    "execution": {
     "iopub.execute_input": "2022-02-18T20:00:52.109986Z",
     "iopub.status.busy": "2022-02-18T20:00:52.109284Z",
     "iopub.status.idle": "2022-02-18T20:00:52.468683Z",
     "shell.execute_reply": "2022-02-18T20:00:52.469203Z",
     "shell.execute_reply.started": "2022-02-18T19:43:55.642009Z"
    },
    "papermill": {
     "duration": 0.466826,
     "end_time": "2022-02-18T20:00:52.469430",
     "exception": false,
     "start_time": "2022-02-18T20:00:52.002604",
     "status": "completed"
    },
    "tags": []
   },
   "outputs": [],
   "source": [
    "from sklearn.preprocessing import StandardScaler\n",
    "sc = StandardScaler()\n",
    "x_train = sc.fit_transform(x_train)\n",
    "x_test = sc.transform(x_test)"
   ]
  },
  {
   "cell_type": "markdown",
   "id": "6cf171ca",
   "metadata": {
    "papermill": {
     "duration": 0.093169,
     "end_time": "2022-02-18T20:00:52.656456",
     "exception": false,
     "start_time": "2022-02-18T20:00:52.563287",
     "status": "completed"
    },
    "tags": []
   },
   "source": [
    "### 1 Linear Regression"
   ]
  },
  {
   "cell_type": "code",
   "execution_count": 47,
   "id": "ebb327de",
   "metadata": {
    "execution": {
     "iopub.execute_input": "2022-02-18T20:00:52.849000Z",
     "iopub.status.busy": "2022-02-18T20:00:52.847775Z",
     "iopub.status.idle": "2022-02-18T20:00:53.298527Z",
     "shell.execute_reply": "2022-02-18T20:00:53.300158Z",
     "shell.execute_reply.started": "2022-02-18T19:56:36.178552Z"
    },
    "papermill": {
     "duration": 0.550463,
     "end_time": "2022-02-18T20:00:53.300611",
     "exception": false,
     "start_time": "2022-02-18T20:00:52.750148",
     "status": "completed"
    },
    "tags": []
   },
   "outputs": [
    {
     "data": {
      "text/plain": [
       "LinearRegression()"
      ]
     },
     "execution_count": 47,
     "metadata": {},
     "output_type": "execute_result"
    }
   ],
   "source": [
    "from sklearn.linear_model import LinearRegression\n",
    "\n",
    "lm = LinearRegression()\n",
    "lm.fit(x_train, y_train)\n",
    "\n"
   ]
  },
  {
   "cell_type": "code",
   "execution_count": 48,
   "id": "906ae0dd",
   "metadata": {
    "execution": {
     "iopub.execute_input": "2022-02-18T20:00:53.521577Z",
     "iopub.status.busy": "2022-02-18T20:00:53.520641Z",
     "iopub.status.idle": "2022-02-18T20:00:53.524618Z",
     "shell.execute_reply": "2022-02-18T20:00:53.525369Z",
     "shell.execute_reply.started": "2022-02-18T19:58:14.173429Z"
    },
    "papermill": {
     "duration": 0.118542,
     "end_time": "2022-02-18T20:00:53.525600",
     "exception": false,
     "start_time": "2022-02-18T20:00:53.407058",
     "status": "completed"
    },
    "tags": []
   },
   "outputs": [
    {
     "name": "stdout",
     "output_type": "stream",
     "text": [
      "Intercept parameter: 9263.520754435283\n",
      "                     Coefficient\n",
      "Occupation          4.974472e+01\n",
      "Marital_Status     -2.037229e+01\n",
      "Product_Category_1 -1.635985e+03\n",
      "Product_Category_2 -2.537936e+02\n",
      "F                   5.290697e+15\n",
      "M                   5.290697e+15\n",
      "0-17                5.353105e+15\n",
      "18-25               1.264977e+16\n",
      "26-35               1.606696e+16\n",
      "36-45               1.313391e+16\n",
      "46-50               9.072666e+15\n",
      "51-55               8.373246e+15\n",
      "55+                 6.371421e+15\n",
      "A                   7.859498e+15\n",
      "B                   8.751143e+15\n",
      "C                   8.211089e+15\n",
      "0                   3.037409e+15\n",
      "1                   4.245629e+15\n",
      "2                   3.455330e+15\n",
      "3                   3.367234e+15\n",
      "4+                  3.211123e+15\n"
     ]
    }
   ],
   "source": [
    "print('Intercept parameter:', lm.intercept_)\n",
    "coeff_df = pd.DataFrame(lm.coef_, x.columns, columns=['Coefficient'])\n",
    "print(coeff_df)"
   ]
  },
  {
   "cell_type": "code",
   "execution_count": 49,
   "id": "6ca1bbb4",
   "metadata": {
    "execution": {
     "iopub.execute_input": "2022-02-18T20:00:53.742314Z",
     "iopub.status.busy": "2022-02-18T20:00:53.741129Z",
     "iopub.status.idle": "2022-02-18T20:00:53.760668Z",
     "shell.execute_reply": "2022-02-18T20:00:53.761627Z",
     "shell.execute_reply.started": "2022-02-18T19:58:33.633264Z"
    },
    "papermill": {
     "duration": 0.135811,
     "end_time": "2022-02-18T20:00:53.761967",
     "exception": false,
     "start_time": "2022-02-18T20:00:53.626156",
     "status": "completed"
    },
    "tags": []
   },
   "outputs": [
    {
     "name": "stdout",
     "output_type": "stream",
     "text": [
      "Predicted purchases (in dollars) for new costumers: [10028.77075444  9348.52075444 10104.77075444 ... 10710.77075444\n",
      " 11711.27075444  9061.27075444]\n"
     ]
    }
   ],
   "source": [
    "predictions = lm.predict(x_test)\n",
    "print(\"Predicted purchases (in dollars) for new costumers:\", predictions)"
   ]
  },
  {
   "cell_type": "code",
   "execution_count": 50,
   "id": "e77e61f6",
   "metadata": {
    "execution": {
     "iopub.execute_input": "2022-02-18T20:00:54.046190Z",
     "iopub.status.busy": "2022-02-18T20:00:54.045528Z",
     "iopub.status.idle": "2022-02-18T20:00:54.052791Z",
     "shell.execute_reply": "2022-02-18T20:00:54.053452Z",
     "shell.execute_reply.started": "2022-02-18T19:59:12.954257Z"
    },
    "papermill": {
     "duration": 0.132011,
     "end_time": "2022-02-18T20:00:54.053641",
     "exception": false,
     "start_time": "2022-02-18T20:00:53.921630",
     "status": "completed"
    },
    "tags": []
   },
   "outputs": [
    {
     "name": "stdout",
     "output_type": "stream",
     "text": [
      "MAE: 3595.8937155715043\n",
      "MSE: 22048687.204892356\n"
     ]
    }
   ],
   "source": [
    "from sklearn import metrics\n",
    "\n",
    "print('MAE:', metrics.mean_absolute_error(y_test, predictions))\n",
    "print('MSE:', metrics.mean_squared_error(y_test, predictions))"
   ]
  },
  {
   "cell_type": "code",
   "execution_count": null,
   "id": "d0ae9065",
   "metadata": {
    "papermill": {
     "duration": 0.096724,
     "end_time": "2022-02-18T20:00:54.247806",
     "exception": false,
     "start_time": "2022-02-18T20:00:54.151082",
     "status": "completed"
    },
    "tags": []
   },
   "outputs": [],
   "source": []
  }
 ],
 "metadata": {
  "kernelspec": {
   "display_name": "Python 3 (ipykernel)",
   "language": "python",
   "name": "python3"
  },
  "language_info": {
   "codemirror_mode": {
    "name": "ipython",
    "version": 3
   },
   "file_extension": ".py",
   "mimetype": "text/x-python",
   "name": "python",
   "nbconvert_exporter": "python",
   "pygments_lexer": "ipython3",
   "version": "3.7.8"
  },
  "papermill": {
   "default_parameters": {},
   "duration": 44.261112,
   "end_time": "2022-02-18T20:00:55.660695",
   "environment_variables": {},
   "exception": null,
   "input_path": "__notebook__.ipynb",
   "output_path": "__notebook__.ipynb",
   "parameters": {},
   "start_time": "2022-02-18T20:00:11.399583",
   "version": "2.3.3"
  }
 },
 "nbformat": 4,
 "nbformat_minor": 5
}
